{
 "cells": [
  {
   "cell_type": "code",
   "execution_count": 12,
   "metadata": {},
   "outputs": [
    {
     "name": "stdout",
     "output_type": "stream",
     "text": [
      "The first number is 123 \n",
      "The Second Number is 321\n"
     ]
    }
   ],
   "source": [
    "#operators in python\n",
    "#1. Arithmetic\n",
    "a = float(input(\"enter your number 1 : \"))\n",
    "b = float(input(\"enter your number 2 : \"))\n",
    "print(\"The first number is {} \\nThe Second Number is {}\".format(a , b))"
   ]
  },
  {
   "cell_type": "code",
   "execution_count": 11,
   "metadata": {},
   "outputs": [
    {
     "name": "stdout",
     "output_type": "stream",
     "text": [
      "Addition =  44\n",
      "Subtraction = -20\n",
      "Multiplication = 384\n",
      "Divison = 0.375\n",
      "Floor Division = 0\n",
      "Modulo division = 12\n",
      "Exponent = 34182189187166852111368841966125056\n"
     ]
    }
   ],
   "source": [
    "add = a + b\n",
    "print(\"Addition =  {}\".format(add))\n",
    "sub = a - b\n",
    "print(\"Subtraction = {}\".format(sub))\n",
    "mul = a * b\n",
    "print(\"Multiplication = {}\".format(mul))\n",
    "div = a / b\n",
    "print(\"Divison = {}\".format(div))\n",
    "floor_div = a // b\n",
    "print(\"Floor Division = {}\".format(floor_div))\n",
    "modulo_division = a % b\n",
    "print(\"Modulo division = {}\".format(modulo_division))\n",
    "exponent = a ** b\n",
    "print(\"Exponent = {}\".format(exponent))"
   ]
  },
  {
   "cell_type": "code",
   "execution_count": 15,
   "metadata": {},
   "outputs": [
    {
     "name": "stdout",
     "output_type": "stream",
     "text": [
      "True\n",
      "True\n",
      "False\n",
      "False\n",
      "False\n",
      "True\n"
     ]
    }
   ],
   "source": [
    "#Relational Operator (will give boolean value as the output)\n",
    "a = 10\n",
    "b = 20\n",
    "#less than\n",
    "print(a < b)\n",
    "#less than equal top\n",
    "print(a <= b)\n",
    "#greater than\n",
    "print(a > b)\n",
    "#greater than or equal to\n",
    "print(a >= b)\n",
    "#is a and b equal\n",
    "print(a == b)\n",
    "#a is not equal to b\n",
    "print(a != b)"
   ]
  },
  {
   "cell_type": "markdown",
   "metadata": {},
   "source": [
    "Logical Operator\n",
    "\n",
    "1. and \n",
    "2. or \n",
    "3. not"
   ]
  },
  {
   "cell_type": "markdown",
   "metadata": {},
   "source": [
    "Identify Operator (used for address comparsion)\n",
    "1. is\n",
    "2. not is"
   ]
  },
  {
   "cell_type": "code",
   "execution_count": 23,
   "metadata": {},
   "outputs": [
    {
     "name": "stdout",
     "output_type": "stream",
     "text": [
      "2850479276560\n",
      "2850479276560\n",
      "2850479276880\n",
      "True\n",
      "False\n",
      "False\n",
      "True\n"
     ]
    }
   ],
   "source": [
    "a = 10\n",
    "b = 10\n",
    "c = 20\n",
    "print(id(a))\n",
    "print(id(b))\n",
    "print(id(c))\n",
    "print(a is b)\n",
    "print(a is c)\n",
    "print(a is not b)\n",
    "print(a is not c)"
   ]
  },
  {
   "cell_type": "code",
   "execution_count": 26,
   "metadata": {},
   "outputs": [
    {
     "name": "stdout",
     "output_type": "stream",
     "text": [
      "2850524352880\n",
      "2850480604144\n",
      "2850524352880\n",
      "False\n",
      "True\n"
     ]
    }
   ],
   "source": [
    "s1 = 'python'\n",
    "s2 = 'Python'\n",
    "s3 = 'python'\n",
    "print(id(s1))\n",
    "print(id(s2))\n",
    "print(id(s3))\n",
    "print(s1 is s2)\n",
    "print(s1 is not s2)"
   ]
  },
  {
   "cell_type": "code",
   "execution_count": 28,
   "metadata": {},
   "outputs": [
    {
     "name": "stdout",
     "output_type": "stream",
     "text": [
      "2850563289920\n",
      "2850563386112\n",
      "False\n"
     ]
    }
   ],
   "source": [
    "l1 = [1,2,3,4,5]\n",
    "l2 = [1,2,3,4,5]\n",
    "print(id(l1))\n",
    "print(id(l2))\n",
    "print(l1 is l2)"
   ]
  },
  {
   "cell_type": "markdown",
   "metadata": {},
   "source": [
    "4. Membership Operator\n",
    "- We can use membership operator to check whether a given object is member of sequence or not\n",
    "\n",
    "     - in\n",
    "     - not in"
   ]
  },
  {
   "cell_type": "code",
   "execution_count": 30,
   "metadata": {},
   "outputs": [
    {
     "name": "stdout",
     "output_type": "stream",
     "text": [
      "True\n",
      "False\n",
      "False\n",
      "True\n"
     ]
    }
   ],
   "source": [
    "s1 = 'python'\n",
    "print('p' in s1)\n",
    "print('P' in s1)\n",
    "print('n' not in s1)\n",
    "print('N' not in s1)"
   ]
  },
  {
   "cell_type": "code",
   "execution_count": null,
   "metadata": {},
   "outputs": [],
   "source": []
  }
 ],
 "metadata": {
  "kernelspec": {
   "display_name": "Python 3.10.6 64-bit",
   "language": "python",
   "name": "python3"
  },
  "language_info": {
   "codemirror_mode": {
    "name": "ipython",
    "version": 3
   },
   "file_extension": ".py",
   "mimetype": "text/x-python",
   "name": "python",
   "nbconvert_exporter": "python",
   "pygments_lexer": "ipython3",
   "version": "3.10.6"
  },
  "orig_nbformat": 4,
  "vscode": {
   "interpreter": {
    "hash": "beedbe2faf2f7048d727558d0bc3221e7eba2a0b921cac4d4771b2feb8f74b30"
   }
  }
 },
 "nbformat": 4,
 "nbformat_minor": 2
}
