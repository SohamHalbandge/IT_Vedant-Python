{
 "cells": [
  {
   "cell_type": "code",
   "execution_count": 33,
   "metadata": {},
   "outputs": [
    {
     "name": "stdout",
     "output_type": "stream",
     "text": [
      "Good morning\n"
     ]
    }
   ],
   "source": [
    "fp = open('abc.txt','r')\n",
    "a = fp.read()\n",
    "print(a)\n",
    "fp.close()"
   ]
  },
  {
   "cell_type": "code",
   "execution_count": 34,
   "metadata": {},
   "outputs": [],
   "source": [
    "fp = open('pqr.txt','w')\n",
    "fp.write('Python Programming')\n",
    "fp.close()"
   ]
  },
  {
   "cell_type": "code",
   "execution_count": 35,
   "metadata": {},
   "outputs": [],
   "source": [
    "fp = open('abc1.txt','w')\n",
    "fp.write('Python Programming')\n",
    "fp.close()"
   ]
  },
  {
   "attachments": {},
   "cell_type": "markdown",
   "metadata": {},
   "source": [
    "- w -> file pointer is at the first position\n",
    "- a -> append mode file pointer is at the end position"
   ]
  },
  {
   "cell_type": "code",
   "execution_count": 36,
   "metadata": {},
   "outputs": [],
   "source": [
    "fp = open('abc.txt','a') #a --> append\n",
    "fp.write(' Python Programming')\n",
    "fp.close()"
   ]
  },
  {
   "cell_type": "code",
   "execution_count": 37,
   "metadata": {},
   "outputs": [],
   "source": [
    "fp = open('xyz.txt' , 'x') #x --> Exclusive creation\n",
    "fp.write('Data Science')\n",
    "fp.close()"
   ]
  },
  {
   "attachments": {},
   "cell_type": "markdown",
   "metadata": {},
   "source": [
    "x -> Exclusive creation\n",
    "- will create a new file\n",
    "- try to open existing file then it will return an error"
   ]
  },
  {
   "cell_type": "code",
   "execution_count": 38,
   "metadata": {},
   "outputs": [
    {
     "data": {
      "text/plain": [
       "\"\\nThis will give an error\\n\\nfp = open('abc.txt' , 'x') #x --> Exclusive creation\\nfp.close()\\n\""
      ]
     },
     "execution_count": 38,
     "metadata": {},
     "output_type": "execute_result"
    }
   ],
   "source": [
    "'''\n",
    "This will give an error\n",
    "\n",
    "fp = open('abc.txt' , 'x') #x --> Exclusive creation\n",
    "fp.close()\n",
    "'''"
   ]
  },
  {
   "cell_type": "code",
   "execution_count": 39,
   "metadata": {},
   "outputs": [
    {
     "name": "stdout",
     "output_type": "stream",
     "text": [
      "Good morning Python Programming\n",
      "\n"
     ]
    }
   ],
   "source": [
    "fp = open('abc.txt','r+')\n",
    "a = fp.read()\n",
    "print(a)\n",
    "fp.write('Java programming')\n",
    "b = fp.read()\n",
    "print(b)\n",
    "fp.close()"
   ]
  },
  {
   "cell_type": "code",
   "execution_count": 40,
   "metadata": {},
   "outputs": [
    {
     "name": "stdout",
     "output_type": "stream",
     "text": [
      "\n",
      "\n"
     ]
    }
   ],
   "source": [
    "fp = open('abc.txt','w+')\n",
    "a = fp.read()\n",
    "print(a)\n",
    "fp.write('Java programming')\n",
    "b = fp.read()\n",
    "print(b)\n",
    "fp.close()"
   ]
  },
  {
   "cell_type": "code",
   "execution_count": 7,
   "metadata": {},
   "outputs": [],
   "source": [
    "with open('file3.txt','w') as f:\n",
    "    f.write('File Handling')\n",
    "    f.write('\\n')\n",
    "    f.write('Functions')\n",
    "    f.write('\\t')\n",
    "    f.write('OOP')\n",
    "    f.write('Python Programming')"
   ]
  },
  {
   "cell_type": "code",
   "execution_count": 8,
   "metadata": {},
   "outputs": [
    {
     "name": "stdout",
     "output_type": "stream",
     "text": [
      "It is used for:\n",
      "\n",
      "    web development (server-side),\n",
      "    software development,\n",
      "    mathematics,\n",
      "    system scripting.\n",
      "\n",
      "What can Python do?\n",
      "\n",
      "    Python can be used on a server to create web applications.\n",
      "    Python can be used alongside software to create workflows.\n",
      "    Python can connect to database systems. It can also read and modify files.\n",
      "    Python can be used to handle big data and perform complex mathematics.\n",
      "    Python can be used for rapid prototyping, or for production-ready software development.\n",
      "\n"
     ]
    }
   ],
   "source": [
    "f = open('file4.txt' , 'r')\n",
    "a = f.read()\n",
    "print(a)\n",
    "fp.close()"
   ]
  },
  {
   "cell_type": "code",
   "execution_count": 10,
   "metadata": {},
   "outputs": [
    {
     "name": "stdout",
     "output_type": "stream",
     "text": [
      "It is\n"
     ]
    }
   ],
   "source": [
    "f = open('file4.txt' , 'r')\n",
    "a = f.read(5)\n",
    "print(a)\n",
    "fp.close()"
   ]
  },
  {
   "cell_type": "code",
   "execution_count": 14,
   "metadata": {},
   "outputs": [
    {
     "name": "stdout",
     "output_type": "stream",
     "text": [
      "It is\n"
     ]
    }
   ],
   "source": [
    "f = open('file4.txt' , 'r')\n",
    "line1 = f.readline()\n",
    "print(a)\n",
    "fp.close()"
   ]
  },
  {
   "cell_type": "code",
   "execution_count": 23,
   "metadata": {},
   "outputs": [
    {
     "name": "stdout",
     "output_type": "stream",
     "text": [
      "It is used for:\n",
      "\n",
      "    web development (server-side),\n",
      "\n",
      "    software development,\n",
      "\n"
     ]
    }
   ],
   "source": [
    "f = open('file4.txt' , 'r')\n",
    "line1 = f.readline()\n",
    "line2 = f.readline()\n",
    "line3 = f.readline()\n",
    "print(line1)\n",
    "print(line2)\n",
    "print(line3)\n",
    "fp.close()"
   ]
  },
  {
   "cell_type": "code",
   "execution_count": 24,
   "metadata": {},
   "outputs": [
    {
     "name": "stdout",
     "output_type": "stream",
     "text": [
      "['It is used for:\\n', '    web development (server-side),\\n', '    software development,\\n', '    mathematics,\\n', '    system scripting.\\n', 'What can Python do?\\n', '    Python can be used on a server to create web applications.\\n', '    Python can be used alongside software to create workflows.\\n', '    Python can connect to database systems. It can also read and modify files.\\n', '    Python can be used to handle big data and perform complex mathematics.\\n', '    Python can be used for rapid prototyping, or for production-ready software development.\\n']\n",
      "<class 'list'>\n"
     ]
    }
   ],
   "source": [
    "#How to read multiple lines in a list\n",
    "fp = open('file4.txt' , 'r')\n",
    "lines = fp.readlines()\n",
    "print(lines)\n",
    "print(type(lines))"
   ]
  },
  {
   "cell_type": "code",
   "execution_count": 25,
   "metadata": {},
   "outputs": [
    {
     "name": "stdout",
     "output_type": "stream",
     "text": [
      "It is used for:\n",
      "\n",
      "    web development (server-side),\n",
      "\n",
      "    software development,\n",
      "\n",
      "    mathematics,\n",
      "\n",
      "    system scripting.\n",
      "\n",
      "What can Python do?\n",
      "\n",
      "    Python can be used on a server to create web applications.\n",
      "\n",
      "    Python can be used alongside software to create workflows.\n",
      "\n",
      "    Python can connect to database systems. It can also read and modify files.\n",
      "\n",
      "    Python can be used to handle big data and perform complex mathematics.\n",
      "\n",
      "    Python can be used for rapid prototyping, or for production-ready software development.\n",
      "\n"
     ]
    }
   ],
   "source": [
    "for i in lines:\n",
    "    print(i)"
   ]
  },
  {
   "cell_type": "code",
   "execution_count": 27,
   "metadata": {},
   "outputs": [],
   "source": [
    "fp = open('files5.txt','w')\n",
    "fp.write('python\\t')\n",
    "fp.write('programming\\n')\n",
    "fp.write('Java\\t')\n",
    "fp.write('Programming')\n",
    "fp.close()"
   ]
  },
  {
   "cell_type": "code",
   "execution_count": 28,
   "metadata": {},
   "outputs": [
    {
     "name": "stdout",
     "output_type": "stream",
     "text": [
      "python\tprogramming\n",
      "Java\tProgramming\n"
     ]
    }
   ],
   "source": [
    "list1 = ['python\\t','programming\\n','Java\\t','Programming']\n",
    "fp = open('file6.txt','w')\n",
    "fp.writelines(list1)\n",
    "fp.close()\n",
    "fp = open('file6.txt','r')\n",
    "content = fp.read()\n",
    "print(content)\n",
    "fp.close()"
   ]
  },
  {
   "attachments": {},
   "cell_type": "markdown",
   "metadata": {},
   "source": [
    "tell() and seek()"
   ]
  },
  {
   "cell_type": "code",
   "execution_count": 29,
   "metadata": {},
   "outputs": [],
   "source": [
    "data = 'All students are stupid'\n",
    "fp = open ('file7.txt','w')\n",
    "fp.write(data)\n",
    "fp.close()"
   ]
  },
  {
   "cell_type": "code",
   "execution_count": 39,
   "metadata": {},
   "outputs": [
    {
     "name": "stdout",
     "output_type": "stream",
     "text": [
      "All students are stupid\n",
      "Current Cursor position 23\n",
      "Current Cursor position 17\n",
      "Data after modification\n",
      "All students are GEMS!!!\n"
     ]
    }
   ],
   "source": [
    "with open('file7.txt','r+') as fp:\n",
    "    text = fp.read()\n",
    "    print(text)\n",
    "    print('Current Cursor position',fp.tell())\n",
    "    fp.seek(17)\n",
    "    print('Current Cursor position',fp.tell())\n",
    "    fp.write('GEMS!!!')\n",
    "    fp.seek(0)\n",
    "    text = fp.read()\n",
    "    print('Data after modification')\n",
    "    print(text)"
   ]
  },
  {
   "cell_type": "code",
   "execution_count": null,
   "metadata": {},
   "outputs": [],
   "source": []
  },
  {
   "cell_type": "code",
   "execution_count": null,
   "metadata": {},
   "outputs": [],
   "source": []
  }
 ],
 "metadata": {
  "kernelspec": {
   "display_name": "Python 3",
   "language": "python",
   "name": "python3"
  },
  "language_info": {
   "codemirror_mode": {
    "name": "ipython",
    "version": 3
   },
   "file_extension": ".py",
   "mimetype": "text/x-python",
   "name": "python",
   "nbconvert_exporter": "python",
   "pygments_lexer": "ipython3",
   "version": "3.10.6"
  },
  "orig_nbformat": 4,
  "vscode": {
   "interpreter": {
    "hash": "beedbe2faf2f7048d727558d0bc3221e7eba2a0b921cac4d4771b2feb8f74b30"
   }
  }
 },
 "nbformat": 4,
 "nbformat_minor": 2
}
