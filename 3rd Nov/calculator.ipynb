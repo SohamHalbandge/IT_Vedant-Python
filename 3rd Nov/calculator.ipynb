{
 "cells": [
  {
   "cell_type": "code",
   "execution_count": 17,
   "metadata": {},
   "outputs": [],
   "source": [
    "def calculate():\n",
    "    n1 = int(input(\"Enter 1st number:\"))\n",
    "    n2 = int(input(\"Enter 2nd number:\"))\n",
    "    print(\"First number: \",n1)\n",
    "    print(\"Second number: \",n2)\n",
    "    add = n1 + n2 \n",
    "    sub = n1 - n2\n",
    "    mul = n1 * n2\n",
    "    div = n1 / n2\n",
    "    return add , sub , mul , div"
   ]
  },
  {
   "cell_type": "code",
   "execution_count": 20,
   "metadata": {},
   "outputs": [
    {
     "name": "stdout",
     "output_type": "stream",
     "text": [
      "First number:  3\n",
      "Second number:  5\n",
      "Addition:  8\n",
      "Subtraction:  -2\n",
      "Multiplication:  15\n",
      "Division:  0.6\n"
     ]
    }
   ],
   "source": [
    "add,sub,mul,div = calculate()\n",
    "print(\"Addition: \" , add)\n",
    "print(\"Subtraction: \" , sub)\n",
    "print(\"Multiplication: \" , mul)\n",
    "print(\"Division: \" , div)"
   ]
  }
 ],
 "metadata": {
  "kernelspec": {
   "display_name": "Python 3.10.6 64-bit",
   "language": "python",
   "name": "python3"
  },
  "language_info": {
   "codemirror_mode": {
    "name": "ipython",
    "version": 3
   },
   "file_extension": ".py",
   "mimetype": "text/x-python",
   "name": "python",
   "nbconvert_exporter": "python",
   "pygments_lexer": "ipython3",
   "version": "3.10.6"
  },
  "orig_nbformat": 4,
  "vscode": {
   "interpreter": {
    "hash": "beedbe2faf2f7048d727558d0bc3221e7eba2a0b921cac4d4771b2feb8f74b30"
   }
  }
 },
 "nbformat": 4,
 "nbformat_minor": 2
}
