{
 "cells": [
  {
   "cell_type": "markdown",
   "metadata": {},
   "source": [
    "Positional Argument"
   ]
  },
  {
   "cell_type": "code",
   "execution_count": 6,
   "metadata": {},
   "outputs": [],
   "source": [
    "def student_details(name,marks):\n",
    "    print(\"Name of the student: \" , name)\n",
    "    print(\"Marks of the student: \" , marks)\n",
    "    if marks >= 90 :\n",
    "        print(\"Grade : A\")\n",
    "    elif marks < 90 and marks >= 70 :\n",
    "        print(\"Grade : B\")\n",
    "    else:\n",
    "        print(\"Grade : C\")"
   ]
  },
  {
   "cell_type": "code",
   "execution_count": 7,
   "metadata": {},
   "outputs": [
    {
     "name": "stdout",
     "output_type": "stream",
     "text": [
      "Name of the student:  soham\n",
      "Marks of the student:  89\n",
      "Grade : B\n"
     ]
    }
   ],
   "source": [
    "student_details('soham',89)"
   ]
  },
  {
   "cell_type": "markdown",
   "metadata": {},
   "source": [
    "Keyword Argument"
   ]
  },
  {
   "cell_type": "code",
   "execution_count": 8,
   "metadata": {},
   "outputs": [],
   "source": [
    "def student_details(name,marks):\n",
    "    print(\"Name of the student: \" , name)\n",
    "    print(\"Marks of the student: \" , marks)\n",
    "    if marks >= 90 :\n",
    "        print(\"Grade : A\")\n",
    "    elif marks < 90 and marks >= 70 :\n",
    "        print(\"Grade : B\")\n",
    "    else:\n",
    "        print(\"Grade : C\")"
   ]
  },
  {
   "cell_type": "code",
   "execution_count": 9,
   "metadata": {},
   "outputs": [
    {
     "name": "stdout",
     "output_type": "stream",
     "text": [
      "Name of the student:  soham\n",
      "Marks of the student:  90\n",
      "Grade : A\n"
     ]
    }
   ],
   "source": [
    "student_details(marks=90,name='soham')"
   ]
  },
  {
   "cell_type": "markdown",
   "metadata": {},
   "source": [
    "Default Argument"
   ]
  },
  {
   "cell_type": "code",
   "execution_count": 11,
   "metadata": {},
   "outputs": [],
   "source": [
    "def greet(name='Guest'):\n",
    "    print('Good Morning',name)"
   ]
  },
  {
   "cell_type": "code",
   "execution_count": 14,
   "metadata": {},
   "outputs": [
    {
     "name": "stdout",
     "output_type": "stream",
     "text": [
      "Good Morning Guest\n"
     ]
    }
   ],
   "source": [
    "greet()"
   ]
  },
  {
   "cell_type": "code",
   "execution_count": 13,
   "metadata": {},
   "outputs": [
    {
     "name": "stdout",
     "output_type": "stream",
     "text": [
      "Good Morning Akash\n"
     ]
    }
   ],
   "source": [
    "greet('Akash')"
   ]
  },
  {
   "cell_type": "markdown",
   "metadata": {},
   "source": [
    "Variable Length Argument"
   ]
  },
  {
   "cell_type": "code",
   "execution_count": 17,
   "metadata": {},
   "outputs": [],
   "source": [
    "def sum(*n):\n",
    "    print(\"n:\",n)\n",
    "    total = 0 \n",
    "    for i in n:\n",
    "        total = total + i\n",
    "    print(\"Sum\",total)"
   ]
  },
  {
   "cell_type": "code",
   "execution_count": 19,
   "metadata": {},
   "outputs": [
    {
     "name": "stdout",
     "output_type": "stream",
     "text": [
      "n: (12, 32, 432, 75123, 321, 312, 3, 42, 432, 432, 432, 423243)\n",
      "Sum 500816\n"
     ]
    }
   ],
   "source": [
    "sum(12,32,432,75123,321,312,3,42,432,432,432,423243)"
   ]
  },
  {
   "cell_type": "code",
   "execution_count": null,
   "metadata": {},
   "outputs": [],
   "source": []
  }
 ],
 "metadata": {
  "kernelspec": {
   "display_name": "Python 3.10.6 64-bit",
   "language": "python",
   "name": "python3"
  },
  "language_info": {
   "codemirror_mode": {
    "name": "ipython",
    "version": 3
   },
   "file_extension": ".py",
   "mimetype": "text/x-python",
   "name": "python",
   "nbconvert_exporter": "python",
   "pygments_lexer": "ipython3",
   "version": "3.10.6"
  },
  "orig_nbformat": 4,
  "vscode": {
   "interpreter": {
    "hash": "beedbe2faf2f7048d727558d0bc3221e7eba2a0b921cac4d4771b2feb8f74b30"
   }
  }
 },
 "nbformat": 4,
 "nbformat_minor": 2
}
