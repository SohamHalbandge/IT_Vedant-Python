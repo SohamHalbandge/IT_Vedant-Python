{
 "cells": [
  {
   "cell_type": "markdown",
   "id": "1f614c4a",
   "metadata": {},
   "source": [
    "# Types of Variable"
   ]
  },
  {
   "cell_type": "code",
   "execution_count": 16,
   "id": "0ca58d0d",
   "metadata": {},
   "outputs": [
    {
     "name": "stdout",
     "output_type": "stream",
     "text": [
      "Value of a outside function 100\n"
     ]
    }
   ],
   "source": [
    "#Local and global variable\n",
    "a = 100 #global variable\n",
    "print('Value of a outside function',a)\n",
    "def demo():\n",
    "    a=200\n",
    "    b=200\n",
    "    b=b+1\n",
    "    print('Value of a inside demo function',a)\n",
    "    print(b)\n",
    "def demo1():\n",
    "    c=300 #local variable\n",
    "    c=c+1\n",
    "    #print('Value of b inside demo1 function',b)\n",
    "    print(c)\n",
    "    print('Value of a inside demo1 function',a)"
   ]
  },
  {
   "cell_type": "code",
   "execution_count": 17,
   "id": "56c09be8",
   "metadata": {},
   "outputs": [
    {
     "name": "stdout",
     "output_type": "stream",
     "text": [
      "Value of a inside demo function 200\n",
      "201\n"
     ]
    }
   ],
   "source": [
    "demo()"
   ]
  },
  {
   "cell_type": "code",
   "execution_count": 18,
   "id": "5638f369",
   "metadata": {},
   "outputs": [
    {
     "name": "stdout",
     "output_type": "stream",
     "text": [
      "301\n",
      "Value of a inside demo1 function 100\n"
     ]
    }
   ],
   "source": [
    "demo1()"
   ]
  },
  {
   "cell_type": "code",
   "execution_count": 19,
   "id": "73e5341d",
   "metadata": {},
   "outputs": [],
   "source": [
    "a=10 #global variable\n",
    "def f1():\n",
    "    a=200 #local variable\n",
    "    print(a)\n",
    "def f2():\n",
    "    print(a)"
   ]
  },
  {
   "cell_type": "code",
   "execution_count": 21,
   "id": "5a4775e5",
   "metadata": {},
   "outputs": [
    {
     "name": "stdout",
     "output_type": "stream",
     "text": [
      "200\n",
      "10\n"
     ]
    }
   ],
   "source": [
    "f1()\n",
    "f2()"
   ]
  },
  {
   "cell_type": "code",
   "execution_count": 22,
   "id": "9eb15c0f",
   "metadata": {},
   "outputs": [],
   "source": [
    "a=10\n",
    "def f1():\n",
    "    global a\n",
    "    a = 200\n",
    "    print(a)\n",
    "def f2():\n",
    "    print(a)"
   ]
  },
  {
   "cell_type": "code",
   "execution_count": 23,
   "id": "10afd2d7",
   "metadata": {},
   "outputs": [
    {
     "name": "stdout",
     "output_type": "stream",
     "text": [
      "200\n",
      "200\n"
     ]
    }
   ],
   "source": [
    "f1()\n",
    "f2()"
   ]
  },
  {
   "cell_type": "markdown",
   "id": "f96983a9",
   "metadata": {},
   "source": [
    "### Square of a number"
   ]
  },
  {
   "cell_type": "code",
   "execution_count": 32,
   "id": "5ffb37af",
   "metadata": {},
   "outputs": [],
   "source": [
    "def square():\n",
    "    n = int(input('Enter a number: '))\n",
    "    square = n ** 2\n",
    "    print('Square of {} = {}'.format(n,square))"
   ]
  },
  {
   "cell_type": "code",
   "execution_count": 33,
   "id": "ddf4fc8f",
   "metadata": {},
   "outputs": [
    {
     "name": "stdout",
     "output_type": "stream",
     "text": [
      "Enter a number: 10\n",
      "Square of 10 = 100\n"
     ]
    }
   ],
   "source": [
    "square()"
   ]
  },
  {
   "cell_type": "markdown",
   "id": "d69f6f85",
   "metadata": {},
   "source": [
    "# Lambda"
   ]
  },
  {
   "cell_type": "markdown",
   "id": "258f89ec",
   "metadata": {},
   "source": [
    "### Other names for lambda function\n",
    "- Anonymous function\n",
    "- Nameless function\n",
    "- Oneline function\n",
    "- Inline function"
   ]
  },
  {
   "cell_type": "code",
   "execution_count": 40,
   "id": "fdc17d6c",
   "metadata": {},
   "outputs": [
    {
     "name": "stdout",
     "output_type": "stream",
     "text": [
      "25\n",
      "100\n"
     ]
    }
   ],
   "source": [
    "#n = int(input('Enter a number: '))\n",
    "sq = lambda n:n**2\n",
    "print(sq(5))\n",
    "print(sq(10))"
   ]
  },
  {
   "cell_type": "code",
   "execution_count": 42,
   "id": "47059f39",
   "metadata": {},
   "outputs": [
    {
     "name": "stdout",
     "output_type": "stream",
     "text": [
      "98\n",
      "100\n"
     ]
    }
   ],
   "source": [
    "add = lambda x,y:x+y\n",
    "print(add(45,53))\n",
    "print(add(0,100))"
   ]
  },
  {
   "cell_type": "code",
   "execution_count": 45,
   "id": "8b43ec0f",
   "metadata": {},
   "outputs": [],
   "source": [
    "def great(a1,a2):\n",
    "    if a1 > a2:\n",
    "        print('The greatest number is',a1)\n",
    "    else:\n",
    "        print('The greatest number is',a2)"
   ]
  },
  {
   "cell_type": "code",
   "execution_count": 49,
   "id": "aae913b4",
   "metadata": {},
   "outputs": [
    {
     "name": "stdout",
     "output_type": "stream",
     "text": [
      "The greatest number is 90\n"
     ]
    }
   ],
   "source": [
    "great(30,90)"
   ]
  },
  {
   "cell_type": "code",
   "execution_count": 50,
   "id": "62e54ef9",
   "metadata": {},
   "outputs": [],
   "source": [
    "greatest = lambda a,b: a if a>b else b"
   ]
  },
  {
   "cell_type": "code",
   "execution_count": 52,
   "id": "6a3f6ad2",
   "metadata": {},
   "outputs": [
    {
     "name": "stdout",
     "output_type": "stream",
     "text": [
      "12\n"
     ]
    }
   ],
   "source": [
    "print(greatest(12,5))"
   ]
  },
  {
   "cell_type": "code",
   "execution_count": 53,
   "id": "519880af",
   "metadata": {},
   "outputs": [
    {
     "name": "stdout",
     "output_type": "stream",
     "text": [
      "30\n"
     ]
    }
   ],
   "source": [
    "print(greatest(5,30))"
   ]
  },
  {
   "cell_type": "code",
   "execution_count": null,
   "id": "05d89afc",
   "metadata": {},
   "outputs": [],
   "source": []
  }
 ],
 "metadata": {
  "kernelspec": {
   "display_name": "Python 3 (ipykernel)",
   "language": "python",
   "name": "python3"
  },
  "language_info": {
   "codemirror_mode": {
    "name": "ipython",
    "version": 3
   },
   "file_extension": ".py",
   "mimetype": "text/x-python",
   "name": "python",
   "nbconvert_exporter": "python",
   "pygments_lexer": "ipython3",
   "version": "3.9.12"
  }
 },
 "nbformat": 4,
 "nbformat_minor": 5
}
