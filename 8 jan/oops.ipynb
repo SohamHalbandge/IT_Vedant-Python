{
 "cells": [
  {
   "cell_type": "markdown",
   "id": "95e6a2e8-66f6-4568-9ec3-6aecb63431fb",
   "metadata": {},
   "source": [
    "# Object Oriented Programming"
   ]
  },
  {
   "cell_type": "raw",
   "id": "6c45ddcb-12c4-4e6e-b022-f320207679d5",
   "metadata": {},
   "source": [
    "OOP - Object oriented programming\n",
    "Class ---> Eg. Employee. It is also called as the blueprint \n",
    "Object --> real world entity , Details about the employee (Object is also called as instance)\n",
    "\n",
    "- Polymorphism\n",
    "- Encapsulation\n",
    "    - Data hiding\n",
    "- Inheritance\n",
    "    - Overloading (also part of polymorphism)\n",
    "    - Overriding\n",
    "    \n",
    "def __init__( ) --> constructor (used to initialiase the variable)\n",
    "def __init__(self , name,salary) \n",
    "Types of constructors :\n",
    "1. Parameterized\n",
    "2. Non Parameterized\n",
    "3. Default\n",
    "what is self? it is reference variable! \n",
    "\n",
    "instance method is when in parathesis it has only self."
   ]
  },
  {
   "cell_type": "code",
   "execution_count": 1,
   "id": "99f35a25-f9d3-47c6-b69b-83df9149127b",
   "metadata": {},
   "outputs": [],
   "source": [
    "class Employee:\n",
    "    def __init__ (self,name,salary): #constructor method\n",
    "        self.name = name #initialisation of instance variable.\n",
    "        self.salary  = salary\n",
    "        \n",
    "    def show(self):#instance method\n",
    "        print(\"Name of a employee:\" , self.name)\n",
    "        print(\"Salary of a employee:\" , self.salary)\n",
    "        "
   ]
  },
  {
   "cell_type": "code",
   "execution_count": 2,
   "id": "93d0c210-b72c-4997-b46e-50a07119ff8f",
   "metadata": {},
   "outputs": [],
   "source": [
    "#Syntax for creating a object\n",
    "#obj_name = Class_name(parameter)"
   ]
  },
  {
   "cell_type": "code",
   "execution_count": 3,
   "id": "05e4a7d0-1ba6-4673-8bd8-cf4bcee6d609",
   "metadata": {},
   "outputs": [],
   "source": [
    "e1 = Employee('Abc',20000)"
   ]
  },
  {
   "cell_type": "code",
   "execution_count": 5,
   "id": "cbb1f9d1-4cee-41fd-acce-e1bae95743aa",
   "metadata": {},
   "outputs": [
    {
     "name": "stdout",
     "output_type": "stream",
     "text": [
      "Name of a employee: Abc\n",
      "Salary of a employee: 20000\n"
     ]
    }
   ],
   "source": [
    "e1.show()"
   ]
  },
  {
   "cell_type": "code",
   "execution_count": 8,
   "id": "eee5f4d0-9fcc-452a-af7f-674513c2b901",
   "metadata": {},
   "outputs": [
    {
     "data": {
      "text/plain": [
       "'Abc'"
      ]
     },
     "execution_count": 8,
     "metadata": {},
     "output_type": "execute_result"
    }
   ],
   "source": [
    "e1.name"
   ]
  },
  {
   "cell_type": "code",
   "execution_count": 9,
   "id": "8216f591-ba2c-4923-8a0f-a9d6b3cab8ed",
   "metadata": {},
   "outputs": [
    {
     "data": {
      "text/plain": [
       "20000"
      ]
     },
     "execution_count": 9,
     "metadata": {},
     "output_type": "execute_result"
    }
   ],
   "source": [
    "e1.salary"
   ]
  },
  {
   "cell_type": "code",
   "execution_count": 11,
   "id": "e22075aa-a20b-4c35-80fa-9ce4fa94ac54",
   "metadata": {},
   "outputs": [],
   "source": [
    "e2 = Employee('Akash',50000)"
   ]
  },
  {
   "cell_type": "code",
   "execution_count": null,
   "id": "da16c19e-5131-4d74-996d-30b8aae58ef9",
   "metadata": {},
   "outputs": [
    {
     "name": "stdout",
     "output_type": "stream",
     "text": [
      "Name of a employee: Akash\n",
      "Salary of a employee: 50000\n"
     ]
    }
   ],
   "source": [
    "e2.show()"
   ]
  },
  {
   "cell_type": "markdown",
   "id": "c076ae13-3ae5-4631-bffa-7080fa5ec1af",
   "metadata": {},
   "source": [
    "## Non Parameterized Constructor"
   ]
  },
  {
   "cell_type": "code",
   "execution_count": 12,
   "id": "aab65014-4101-4d3a-8143-f2bfe3aca160",
   "metadata": {},
   "outputs": [],
   "source": [
    "class Student:\n",
    "    def __init__ (self):\n",
    "        self.name = 'ABC'\n",
    "        self.age = 20\n",
    "        self.marks = 80\n",
    "    def show(self):\n",
    "        print(\"Student Details:\")\n",
    "        print(\"Name:\",self.name)\n",
    "        print(\"Age:\",self.age)\n",
    "        print(\"Marks:\",self.marks)"
   ]
  },
  {
   "cell_type": "code",
   "execution_count": 13,
   "id": "dc487227-517c-41b2-af69-f53ef0140553",
   "metadata": {},
   "outputs": [],
   "source": [
    "s1 = Student()"
   ]
  },
  {
   "cell_type": "code",
   "execution_count": 14,
   "id": "2d3bb9d3-435b-469d-b0b6-d0467391b768",
   "metadata": {},
   "outputs": [
    {
     "name": "stdout",
     "output_type": "stream",
     "text": [
      "Student Details:\n",
      "Name: ABC\n",
      "Age: 20\n",
      "Marks: 80\n"
     ]
    }
   ],
   "source": [
    "s1.show()"
   ]
  },
  {
   "cell_type": "code",
   "execution_count": 15,
   "id": "40b7d8a8-99ec-4fb5-89be-be92378c9d71",
   "metadata": {},
   "outputs": [
    {
     "name": "stdout",
     "output_type": "stream",
     "text": [
      "Student Details:\n",
      "Name: ABC\n",
      "Age: 20\n",
      "Marks: 80\n"
     ]
    }
   ],
   "source": [
    "s2 = Student()\n",
    "s2.show()"
   ]
  },
  {
   "cell_type": "code",
   "execution_count": 16,
   "id": "033d114e-f6ca-40ce-bcea-ef2bd7c8c4be",
   "metadata": {},
   "outputs": [],
   "source": [
    "class Student:\n",
    "    def __init__ (self):\n",
    "        name = input(\"Enter name of the student:\")\n",
    "        age = int(input(\"Enter your age\"))\n",
    "        marks = int(input(\"Enter your marks\"))\n",
    "        self.name = name\n",
    "        self.age = age\n",
    "        self.marks = marks\n",
    "    def show(self):\n",
    "        print(\"Student Details:\")\n",
    "        print(\"Name:\",self.name)\n",
    "        print(\"Age:\",self.age)\n",
    "        print(\"Marks:\",self.marks)"
   ]
  },
  {
   "cell_type": "code",
   "execution_count": 17,
   "id": "cbe1140f-ec91-400b-8786-407aae8f2749",
   "metadata": {},
   "outputs": [
    {
     "name": "stdin",
     "output_type": "stream",
     "text": [
      "Enter name of the student: Ohio\n",
      "Enter your age 33\n",
      "Enter your marks 12\n"
     ]
    },
    {
     "name": "stdout",
     "output_type": "stream",
     "text": [
      "Student Details:\n",
      "Name: Ohio\n",
      "Age: 33\n",
      "Marks: 12\n"
     ]
    }
   ],
   "source": [
    "s4 = Student()\n",
    "s4.show()"
   ]
  },
  {
   "cell_type": "markdown",
   "id": "1c098d52-b3f1-4c52-91fc-753000f068eb",
   "metadata": {},
   "source": [
    "### Default Constructor"
   ]
  },
  {
   "cell_type": "code",
   "execution_count": 18,
   "id": "d1ecb94e-5a44-48d2-beea-5f92b9b2c4d4",
   "metadata": {},
   "outputs": [],
   "source": [
    "class demo:\n",
    "    def show(self):\n",
    "        print(\"Inside demo class\")"
   ]
  },
  {
   "cell_type": "code",
   "execution_count": 21,
   "id": "68f2fcd4-2dfc-4a82-9bf4-9c6653d364c1",
   "metadata": {},
   "outputs": [
    {
     "name": "stdout",
     "output_type": "stream",
     "text": [
      "Inside demo class\n"
     ]
    }
   ],
   "source": [
    "d1 = demo()\n",
    "d1.show()"
   ]
  },
  {
   "cell_type": "code",
   "execution_count": 27,
   "id": "aa4951e6-c3b1-4c5d-9b9e-b6316bb36988",
   "metadata": {},
   "outputs": [],
   "source": [
    "class Student:\n",
    "    #Class variable\n",
    "    school_name = \"Itvedant\"\n",
    "    def __init__ (self,name,age,marks):\n",
    "        self.name = name\n",
    "        self.age = age\n",
    "        self.marks = marks\n",
    "   \n",
    "    #instance method\n",
    "    def show(self):\n",
    "        print(\"Student Details\")\n",
    "        print(\"Name:\",self.name)\n",
    "        print(\"Age:\",self.age)\n",
    "        print(\"Marks:\",self.marks)\n",
    "        print(\"School Name:\",self.school_name)"
   ]
  },
  {
   "cell_type": "code",
   "execution_count": 28,
   "id": "a060c495-5a9e-4afd-9bec-f81edcfd4ee3",
   "metadata": {},
   "outputs": [
    {
     "name": "stdout",
     "output_type": "stream",
     "text": [
      "Student Details\n",
      "Name: abc\n",
      "Age: 12\n",
      "Marks: 500\n",
      "School Name: Itvedant\n"
     ]
    }
   ],
   "source": [
    "s1 = Student(\"abc\",12,500)\n",
    "s1.show()"
   ]
  },
  {
   "cell_type": "code",
   "execution_count": 35,
   "id": "d489d158-be79-4668-84ae-04a279fb5575",
   "metadata": {},
   "outputs": [
    {
     "name": "stdout",
     "output_type": "stream",
     "text": [
      "Student Details\n",
      "Name: PQR\n",
      "Age: 20\n",
      "Marks: 50000\n",
      "School Name: Itvedant\n",
      "Student Details\n",
      "Name: PQR\n",
      "Age: 20\n",
      "Marks: 50000\n",
      "School Name: xyz School\n"
     ]
    }
   ],
   "source": [
    "s2 = Student(\"PQR\",20,50000)\n",
    "s2.show()\n",
    "s2.school_name = \"xyz School\"\n",
    "s2.show()"
   ]
  },
  {
   "cell_type": "code",
   "execution_count": 36,
   "id": "4d12f139-3400-4f80-bd1c-c5ab178bbfed",
   "metadata": {},
   "outputs": [],
   "source": [
    "class Student:\n",
    "    #Class variable\n",
    "    school_name = \"Itvedant\"\n",
    "    def __init__ (self,name,age,marks):\n",
    "        self.name = name\n",
    "        self.age = age\n",
    "        self.marks = marks\n",
    "   \n",
    "    #instance method\n",
    "    def show(self):\n",
    "        print(\"Student Details\")\n",
    "        print(\"Name:\",self.name)\n",
    "        print(\"Age:\",self.age)\n",
    "        print(\"Marks:\",self.marks)\n",
    "        print(\"School Name:\",self.school_name)\n",
    "        \n",
    "    @classmethod\n",
    "    def change_school_name(cls):\n",
    "        cls.school_name = 'PQR School'\n",
    "        print(\"Changed School Name:\",cls.school_name)"
   ]
  },
  {
   "cell_type": "code",
   "execution_count": 40,
   "id": "fbd6b11f-293a-4d39-9d4b-6e2ca42b4efc",
   "metadata": {},
   "outputs": [
    {
     "name": "stdout",
     "output_type": "stream",
     "text": [
      "Student Details\n",
      "Name: abc\n",
      "Age: 12\n",
      "Marks: 5000\n",
      "School Name: Itvedant\n",
      "Changed School Name: PQR School\n"
     ]
    }
   ],
   "source": [
    "s1 = Student('abc',12,5000)\n",
    "s1.show()\n",
    "s1.change_school_name()"
   ]
  },
  {
   "cell_type": "code",
   "execution_count": 41,
   "id": "d9ae6f8b-798d-4f64-8a48-7043c3b29cd5",
   "metadata": {},
   "outputs": [
    {
     "name": "stdout",
     "output_type": "stream",
     "text": [
      "Student Details\n",
      "Name: pratik\n",
      "Age: 23\n",
      "Marks: 5678\n",
      "School Name: PQR School\n"
     ]
    }
   ],
   "source": [
    "s3 = Student(\"pratik\",23,5678)\n",
    "s3.show()"
   ]
  },
  {
   "cell_type": "code",
   "execution_count": 45,
   "id": "09d79d42-0b34-4880-9d27-c57a5e77f08c",
   "metadata": {},
   "outputs": [
    {
     "name": "stdout",
     "output_type": "stream",
     "text": [
      "Student Details\n",
      "Name: abc\n",
      "Age: 12\n",
      "Marks: 5000\n",
      "School Name: Itvedant\n"
     ]
    }
   ],
   "source": [
    "s1.show()\n",
    "s1.change_School_name"
   ]
  },
  {
   "cell_type": "markdown",
   "id": "0960cff4-2729-437a-a662-0ed11119a2e9",
   "metadata": {},
   "source": [
    "## Inheritance "
   ]
  },
  {
   "cell_type": "markdown",
   "id": "1807854c-ebb6-41c5-adeb-efda87a0df02",
   "metadata": {},
   "source": [
    "1. Single inheritance\n",
    "vechile --> car\n",
    "2. Multilevel\n",
    "vechile --> Car --> Sports car\n",
    "3. Multiple inheritance\n",
    "parent 1 and parent 2 --> child\n",
    "4. Hierarchial \n",
    "parent 1 -\n",
    "1. child 1\n",
    "2. child 2\n",
    "3. child 3\n",
    "5. Hybrid (combination of any 2)"
   ]
  },
  {
   "cell_type": "code",
   "execution_count": 56,
   "id": "cc81fa8f-d566-4cf1-9668-9c3b838ab002",
   "metadata": {},
   "outputs": [],
   "source": [
    "class vechile:\n",
    "    def vechile_info (self) :\n",
    "        print(\"Inside vechile class\")\n",
    "        \n",
    "class car():\n",
    "    def car_info(self):\n",
    "        print(\"Inside car class\")"
   ]
  },
  {
   "cell_type": "code",
   "execution_count": 57,
   "id": "2946a66c-455e-4eb8-890f-34410f681609",
   "metadata": {},
   "outputs": [
    {
     "name": "stdout",
     "output_type": "stream",
     "text": [
      "Inside car class\n"
     ]
    }
   ],
   "source": [
    "c1 = car()\n",
    "c1.car_info()"
   ]
  },
  {
   "cell_type": "code",
   "execution_count": 60,
   "id": "dd3ce834-1b9f-4bbf-a4e1-814a3dfb8a26",
   "metadata": {},
   "outputs": [],
   "source": [
    "class vechile:\n",
    "    def vechile_info (self) :\n",
    "        print(\"Inside vechile class\")\n",
    "        \n",
    "class car(vechile):\n",
    "    def car_info(self):\n",
    "        print(\"Inside car class\")"
   ]
  },
  {
   "cell_type": "code",
   "execution_count": 62,
   "id": "8a3e2ef4-3c74-4fcb-9be4-83b75005a2d2",
   "metadata": {},
   "outputs": [
    {
     "name": "stdout",
     "output_type": "stream",
     "text": [
      "Inside vechile class\n"
     ]
    }
   ],
   "source": [
    "c1=car()\n",
    "c1.vechile_info()"
   ]
  },
  {
   "cell_type": "code",
   "execution_count": 63,
   "id": "b04ee64a-8cfd-4811-a37e-7eb6fba25548",
   "metadata": {},
   "outputs": [],
   "source": [
    "class vechile:\n",
    "    def vechile_info (self) :\n",
    "        print(\"Inside vechile class\")\n",
    "        \n",
    "class car(vechile):\n",
    "    def car_info(self):\n",
    "        print(\"Inside car class\")\n",
    "        \n",
    "class sportscar(car):\n",
    "    def sportscar_info(self):\n",
    "        print(\"Inside sportscar class\")"
   ]
  },
  {
   "cell_type": "code",
   "execution_count": 65,
   "id": "c0d1dca9-bb5b-4124-843e-650e942b4f01",
   "metadata": {},
   "outputs": [
    {
     "name": "stdout",
     "output_type": "stream",
     "text": [
      "Inside sportscar class\n"
     ]
    }
   ],
   "source": [
    "s1 = sportscar()\n",
    "s1.sportscar_info()"
   ]
  },
  {
   "cell_type": "code",
   "execution_count": 66,
   "id": "bf449048-9f47-4c18-b489-5710f623d519",
   "metadata": {},
   "outputs": [
    {
     "name": "stdout",
     "output_type": "stream",
     "text": [
      "Inside vechile class\n"
     ]
    }
   ],
   "source": [
    "s1 = sportscar()\n",
    "s1.vechile_info()"
   ]
  },
  {
   "cell_type": "code",
   "execution_count": 67,
   "id": "7ccd5acf-b745-41a8-be51-395322331fe6",
   "metadata": {},
   "outputs": [
    {
     "name": "stdout",
     "output_type": "stream",
     "text": [
      "Inside car class\n"
     ]
    }
   ],
   "source": [
    "s1 = sportscar()\n",
    "s1.car_info()"
   ]
  },
  {
   "cell_type": "code",
   "execution_count": 68,
   "id": "b52fb8d9-da46-4a18-b56d-ff7cefa0bc5a",
   "metadata": {},
   "outputs": [],
   "source": [
    "class Vechile:\n",
    "    def vechile_info(self):\n",
    "        print(\"Inside vechile class\")\n",
    "\n",
    "class Car:\n",
    "    def car_info(self):\n",
    "        print(\"Inside Car class\")\n",
    "        \n",
    "class Sportscar(Vechile,Car):\n",
    "    def sportscar_info(self):\n",
    "        print(\"Inside Car class\")"
   ]
  },
  {
   "cell_type": "code",
   "execution_count": 72,
   "id": "2fff5de9-6b7c-49e4-8661-20595d2dad9a",
   "metadata": {},
   "outputs": [
    {
     "name": "stdout",
     "output_type": "stream",
     "text": [
      "Inside vechile class\n",
      "Inside Car class\n",
      "Inside Car class\n"
     ]
    }
   ],
   "source": [
    "s1 = Sportscar()\n",
    "s1.vechile_info()\n",
    "s1.car_info()\n",
    "s1.sportscar_info()"
   ]
  },
  {
   "cell_type": "code",
   "execution_count": 1,
   "id": "77d40500-657c-4df1-b4b5-df022bb180b3",
   "metadata": {},
   "outputs": [],
   "source": [
    "class Vehicle :\n",
    "    def vehicle_info(self):\n",
    "        print(\"Inside vechile class\")\n",
    "class Car(Vehicle):\n",
    "    def car_info(self):\n",
    "        print(\"Inside car class\")\n",
    "class Truck(Vehicle):\n",
    "    def truck_info(self):\n",
    "        print(\"Inside truck class\")\n",
    "class Sportscar(Vehicle):\n",
    "    def sportscar_info(self):\n",
    "        print(\"Inside sportscar class\")"
   ]
  },
  {
   "cell_type": "code",
   "execution_count": 4,
   "id": "f6505aff-5ff7-43e1-855f-37b7337500d6",
   "metadata": {},
   "outputs": [
    {
     "name": "stdout",
     "output_type": "stream",
     "text": [
      "Inside car class\n",
      "Inside truck class\n",
      "Inside vechile class\n"
     ]
    }
   ],
   "source": [
    "c1 = Car()\n",
    "c1.car_info()\n",
    "t1 = Truck()\n",
    "t1.truck_info()\n",
    "t1.vehicle_info()"
   ]
  },
  {
   "cell_type": "code",
   "execution_count": 6,
   "id": "d658016c-6e4a-4e78-a2f8-9e55ff5d12e0",
   "metadata": {},
   "outputs": [
    {
     "name": "stdout",
     "output_type": "stream",
     "text": [
      "Inside sportscar class\n",
      "Inside vechile class\n"
     ]
    }
   ],
   "source": [
    "s1 = Sportscar()\n",
    "s1.sportscar_info()\n",
    "s1.vehicle_info()"
   ]
  },
  {
   "cell_type": "raw",
   "id": "100db0a4-b0a0-4aa2-8173-ee8d67bc74a9",
   "metadata": {},
   "source": [
    "Polymorphism \n",
    "\n",
    "Poly ---> many \n",
    "morph ---> forms\n",
    "\n",
    "a=10,b=20 ; a+b = Addition\n",
    "a='10',b='20' ; a+b = 1020 (concat)"
   ]
  },
  {
   "cell_type": "raw",
   "id": "7649dc0a-2b6f-4624-b732-298a24522d5a",
   "metadata": {},
   "source": [
    "Overloading\n",
    "- Same method with different parameters\n",
    "\n",
    "Overriding \n",
    "- Same method between same parameter"
   ]
  },
  {
   "cell_type": "raw",
   "id": "cde00650-1927-46db-8abb-c903b58d21be",
   "metadata": {},
   "source": [
    "Types of overriding \n",
    "1. Method overriding\n",
    "2. Constructor overriding\n",
    "\n",
    "Whatever member available in the parent class they are by default available to the child class through the inheritance, but if the child class is not satisfied with parent class implementation then child class is allowed to redefine the method in the child class based on its requirement and this concept is called as \n",
    "overriding. "
   ]
  },
  {
   "cell_type": "markdown",
   "id": "2295d425-5ff5-42ec-9daa-62b05ccb1d75",
   "metadata": {},
   "source": [
    "<h1>Polymorphism</h1>"
   ]
  },
  {
   "cell_type": "code",
   "execution_count": 3,
   "id": "7e3ee3bc-b709-4b7a-bb76-8b0ec55faaee",
   "metadata": {},
   "outputs": [],
   "source": [
    "class Parent:\n",
    "    def marry(self):\n",
    "        print(\"Marry to Subhlaxmi\")\n",
    "        print(\"Car \\n Property\")\n",
    "class Child(Parent):\n",
    "    pass"
   ]
  },
  {
   "cell_type": "code",
   "execution_count": 4,
   "id": "b21db001-8e2e-410f-84d1-773691ba1475",
   "metadata": {},
   "outputs": [
    {
     "name": "stdout",
     "output_type": "stream",
     "text": [
      "Marry to Subhlaxmi\n",
      "Car \n",
      " Property\n"
     ]
    }
   ],
   "source": [
    "c1 = Child ()\n",
    "c1.marry()"
   ]
  },
  {
   "cell_type": "code",
   "execution_count": 5,
   "id": "44bb0a61-bb3c-4243-8ea1-507dc8ff5825",
   "metadata": {},
   "outputs": [],
   "source": [
    "class Parent:\n",
    "    def marry(self):\n",
    "        print(\"Marry to Subhlaxmi\")\n",
    "        print(\"Car\\nProperty\")\n",
    "class Child(Parent):\n",
    "    def marry(self):\n",
    "        print(\"Marry to Katrina kaif\")"
   ]
  },
  {
   "cell_type": "code",
   "execution_count": 6,
   "id": "5b0d1add-19e1-4b26-b735-75c508db8569",
   "metadata": {},
   "outputs": [
    {
     "name": "stdout",
     "output_type": "stream",
     "text": [
      "Marry to Katrina kaif\n"
     ]
    }
   ],
   "source": [
    "c1 = Child()\n",
    "c1.marry()"
   ]
  },
  {
   "cell_type": "code",
   "execution_count": 7,
   "id": "9d265002-bd9a-446a-9355-aafa9610a0ed",
   "metadata": {},
   "outputs": [],
   "source": [
    "class Parent:\n",
    "    def marry(self):\n",
    "        print(\"Marry to Subhlaxmi\")\n",
    "        print(\"Car\\nProperty\")\n",
    "class Child(Parent):\n",
    "    def marry(self):\n",
    "        super().marry()\n",
    "        print(\"Marry to Katrina kaif\")"
   ]
  },
  {
   "cell_type": "code",
   "execution_count": 8,
   "id": "60ae6b40-05fc-4d81-a58c-1fadd990d119",
   "metadata": {},
   "outputs": [
    {
     "name": "stdout",
     "output_type": "stream",
     "text": [
      "Marry to Subhlaxmi\n",
      "Car\n",
      "Property\n",
      "Marry to Katrina kaif\n"
     ]
    }
   ],
   "source": [
    "c2 = Child()\n",
    "c2.marry()"
   ]
  },
  {
   "cell_type": "code",
   "execution_count": 9,
   "id": "92fff65e-d42c-4234-b2a5-7a9c5f1dfc87",
   "metadata": {},
   "outputs": [],
   "source": [
    "#Constructor Overriding\n",
    "class Parent:\n",
    "    def __init__ (self):\n",
    "        print(\"Parent Constructor\")\n",
    "class Child(Parent):\n",
    "    def __init__ (self):\n",
    "        print(\"Child Constructor\")"
   ]
  },
  {
   "cell_type": "code",
   "execution_count": 10,
   "id": "820e2491-ede7-4707-8343-ae22bb8eab48",
   "metadata": {},
   "outputs": [
    {
     "name": "stdout",
     "output_type": "stream",
     "text": [
      "Child Constructor\n"
     ]
    }
   ],
   "source": [
    "c = Child()"
   ]
  },
  {
   "cell_type": "code",
   "execution_count": 11,
   "id": "aa464ec1-880c-4df4-acb5-f202158bf06c",
   "metadata": {},
   "outputs": [],
   "source": [
    "#Constructor Overriding\n",
    "class Parent:\n",
    "    def __init__ (self):\n",
    "        print(\"Parent Constructor\")\n",
    "class Child(Parent):\n",
    "    #def __init__ (self):\n",
    "        #print(\"Child Constructor\")\n",
    "    pass"
   ]
  },
  {
   "cell_type": "code",
   "execution_count": 12,
   "id": "8bd74f69-cd5d-450a-8bb4-725cb736a350",
   "metadata": {},
   "outputs": [
    {
     "name": "stdout",
     "output_type": "stream",
     "text": [
      "Parent Constructor\n"
     ]
    }
   ],
   "source": [
    "c = Child ()"
   ]
  },
  {
   "cell_type": "code",
   "execution_count": 40,
   "id": "f7dc204a-7464-40b0-adf3-96bef4282f12",
   "metadata": {},
   "outputs": [],
   "source": [
    "class Person:\n",
    "    def __init__ (self,name,age):\n",
    "        self.name = name\n",
    "        self.age = age\n",
    "    def display(self):\n",
    "        print(\"Name:\",self.name)\n",
    "        print(\"Age:\",self.age)\n",
    "    \n",
    "class Employee(Person):\n",
    "    def __init__ (self,name,age,Emp_id,Emp_salary):\n",
    "        super().__init__(name,age)\n",
    "        self.Emp_id = Emp_id\n",
    "        self.Emp_salary = Emp_salary\n",
    "        \n",
    "    def display(self):\n",
    "        print(\"Name:\",self.name)\n",
    "        print(\"Age:\",self.age)\n",
    "        print(\"Emp_id:\",self.Emp_id)\n",
    "        print(\"Emp_salary:\",self.Emp_salary)"
   ]
  },
  {
   "cell_type": "code",
   "execution_count": 43,
   "id": "765e86a8-53ea-484a-9e6d-da28dfb4b030",
   "metadata": {},
   "outputs": [
    {
     "name": "stdout",
     "output_type": "stream",
     "text": [
      "Name: bobby\n",
      "Age: 34\n",
      "Emp_name: 1032\n",
      "Emp_salary: 10000\n"
     ]
    }
   ],
   "source": [
    "e = Employee('bobby',34,1032,10000)\n",
    "e.display()"
   ]
  },
  {
   "cell_type": "code",
   "execution_count": 44,
   "id": "dd963e3f-9f52-4582-a83e-f5bc177e79dd",
   "metadata": {},
   "outputs": [
    {
     "name": "stdout",
     "output_type": "stream",
     "text": [
      "Name: Brobby\n",
      "Age: 13\n"
     ]
    }
   ],
   "source": [
    "p = Person('Brobby',13)\n",
    "p.display()"
   ]
  },
  {
   "cell_type": "markdown",
   "id": "5369be2f-a910-4a49-809e-47f58f259bbe",
   "metadata": {},
   "source": [
    "<h3>Method Overloading</h3>\n",
    "Same method name with different number of parameters <br>\n",
    "Python always consider last implementation of method"
   ]
  },
  {
   "cell_type": "code",
   "execution_count": 52,
   "id": "10013e8c-7955-4ac0-8609-d7475189df74",
   "metadata": {},
   "outputs": [],
   "source": [
    "class Test:\n",
    "    def m1(self):\n",
    "        print(\"Method without arguments \")\n",
    "    def m1(self,a):\n",
    "        print(\"Method with 1 argument\")\n",
    "    def m1(self,a,b):\n",
    "        print(\"Method with 2 arguments\")"
   ]
  },
  {
   "cell_type": "code",
   "execution_count": 53,
   "id": "493abd1d-2b12-4c06-a9ce-23604ad39989",
   "metadata": {},
   "outputs": [
    {
     "name": "stdout",
     "output_type": "stream",
     "text": [
      "Method with 2 arguments\n"
     ]
    }
   ],
   "source": [
    "#It will implement last line of code \n",
    "t1 = Test()\n",
    "t1.m1(12,20)"
   ]
  },
  {
   "cell_type": "code",
   "execution_count": 59,
   "id": "4391f55f-0776-49dc-877e-f69b5ca52b16",
   "metadata": {},
   "outputs": [],
   "source": [
    "class Test:\n",
    "    def a1(self,*a):\n",
    "        sum = 0\n",
    "        for i in a:\n",
    "            sum = sum + i\n",
    "        print(\"Sum is=\",sum)"
   ]
  },
  {
   "cell_type": "code",
   "execution_count": 60,
   "id": "50c51377-a53c-4efe-b6d1-b8a0bf365020",
   "metadata": {},
   "outputs": [
    {
     "name": "stdout",
     "output_type": "stream",
     "text": [
      "Sum is= 2087\n"
     ]
    }
   ],
   "source": [
    "t1=Test()\n",
    "t1.a1(12,3,32,432,432,1123,53)"
   ]
  },
  {
   "cell_type": "code",
   "execution_count": 61,
   "id": "1b6304d5-f3fb-4303-828c-78faf350eefb",
   "metadata": {},
   "outputs": [],
   "source": [
    "class Book:\n",
    "    def __init__ (self,pages):\n",
    "        self.pages = pages"
   ]
  },
  {
   "cell_type": "code",
   "execution_count": 64,
   "id": "b557c6db-bf42-419e-833d-8c4507fe2701",
   "metadata": {},
   "outputs": [],
   "source": [
    "class Book:\n",
    "    def __init__ (self,pages):\n",
    "        self.pages = pages\n",
    "    def __add__ (self,other):\n",
    "        return self.pages + other.pages"
   ]
  },
  {
   "cell_type": "code",
   "execution_count": 65,
   "id": "4d683132-a0d5-4480-ba5a-ba13126e7f7b",
   "metadata": {},
   "outputs": [
    {
     "name": "stdout",
     "output_type": "stream",
     "text": [
      "300\n"
     ]
    }
   ],
   "source": [
    "b1 = Book(200)\n",
    "b2 = Book(100)\n",
    "print(b1+b2)"
   ]
  },
  {
   "cell_type": "code",
   "execution_count": 66,
   "id": "8d5d44b6-fc97-414a-acad-e12b9e8d780c",
   "metadata": {},
   "outputs": [],
   "source": [
    "class Book:\n",
    "    def __init__ (self,pages):\n",
    "        self.pages = pages\n",
    "    def __mul__ (self,other):\n",
    "        return self.pages * other.pages"
   ]
  },
  {
   "cell_type": "code",
   "execution_count": 68,
   "id": "14859b91-eb0b-4d95-9e62-9ac20916ad74",
   "metadata": {},
   "outputs": [
    {
     "name": "stdout",
     "output_type": "stream",
     "text": [
      "200\n"
     ]
    }
   ],
   "source": [
    "b1 = Book(10)\n",
    "b2 = Book(20)\n",
    "print(b1*b2)"
   ]
  },
  {
   "cell_type": "markdown",
   "id": "0adfe5f1-fba4-4ee8-840a-40b290f40f91",
   "metadata": {},
   "source": [
    "<h2>Data Encapsulation</h2>"
   ]
  },
  {
   "cell_type": "code",
   "execution_count": 79,
   "id": "94a13f58-d522-49a9-9e2e-b90a9711495f",
   "metadata": {},
   "outputs": [],
   "source": [
    "#data hiding\n",
    "class Project:\n",
    "    def __init__(self,name,designation,project,salary):\n",
    "        #public member\n",
    "        self.name = name\n",
    "        self.designation = designation\n",
    "        self._project = project #protected member \n",
    "        self.__salary = salary #private member\n",
    "    \n",
    "    #instance method\n",
    "    def details(self):\n",
    "        print(\"Name of Employee\",self.name)\n",
    "        print(\"Designation of Employee\",self.designation)\n",
    "        print(\"Project\",self._project)\n",
    "        print(\"Salary of Employee\" , self.__salary)"
   ]
  },
  {
   "cell_type": "code",
   "execution_count": 82,
   "id": "1dae9c1c-5c39-4175-ba71-6f3aadeb493d",
   "metadata": {},
   "outputs": [],
   "source": [
    "e1 = Project('abc','ceo','ds',50000)"
   ]
  },
  {
   "cell_type": "code",
   "execution_count": 83,
   "id": "b84f1aa6-ebac-444e-8537-9b8a958ad653",
   "metadata": {},
   "outputs": [
    {
     "name": "stdout",
     "output_type": "stream",
     "text": [
      "Name of Employee abc\n",
      "Designation of Employee ceo\n",
      "Project ds\n",
      "Salary of Employee 50000\n"
     ]
    }
   ],
   "source": [
    "e1.details()"
   ]
  },
  {
   "cell_type": "code",
   "execution_count": 84,
   "id": "f8c900d5-1b81-49ce-ad55-47cf0c6aa37f",
   "metadata": {},
   "outputs": [
    {
     "data": {
      "text/plain": [
       "'abc'"
      ]
     },
     "execution_count": 84,
     "metadata": {},
     "output_type": "execute_result"
    }
   ],
   "source": [
    "e1.name"
   ]
  },
  {
   "cell_type": "code",
   "execution_count": 85,
   "id": "1f750ce1-d310-40b9-8662-44ff49b6e1d7",
   "metadata": {},
   "outputs": [
    {
     "data": {
      "text/plain": [
       "'ceo'"
      ]
     },
     "execution_count": 85,
     "metadata": {},
     "output_type": "execute_result"
    }
   ],
   "source": [
    "e1.designation"
   ]
  },
  {
   "cell_type": "code",
   "execution_count": 86,
   "id": "d11a43ee-32e7-41ce-8aec-78fbfd6ebb73",
   "metadata": {},
   "outputs": [
    {
     "data": {
      "text/plain": [
       "'ds'"
      ]
     },
     "execution_count": 86,
     "metadata": {},
     "output_type": "execute_result"
    }
   ],
   "source": [
    "e1._project"
   ]
  },
  {
   "cell_type": "code",
   "execution_count": 89,
   "id": "f0c85e1e-9609-40cd-adbf-793c7960c0d7",
   "metadata": {},
   "outputs": [
    {
     "data": {
      "text/plain": [
       "50000"
      ]
     },
     "execution_count": 89,
     "metadata": {},
     "output_type": "execute_result"
    }
   ],
   "source": [
    "e1._Project__salary"
   ]
  },
  {
   "cell_type": "code",
   "execution_count": 92,
   "id": "91caf71f-8376-4851-bd54-5459ed229355",
   "metadata": {},
   "outputs": [],
   "source": [
    "class Student:\n",
    "    def setName(self,name):\n",
    "        self.name=name\n",
    "    def getName(self):\n",
    "        return self.name\n",
    "    def setMarks(self,marks):\n",
    "        self.marks = marks\n",
    "    def getMarks(self):\n",
    "        return self.marks"
   ]
  },
  {
   "cell_type": "code",
   "execution_count": 93,
   "id": "d0c2e5f9-6cd8-4221-9dd5-cd4df376d67f",
   "metadata": {},
   "outputs": [
    {
     "name": "stdin",
     "output_type": "stream",
     "text": [
      "Enter the number of students 2\n",
      "Enter a name of student hi\n",
      "Enter marks of student 4\n",
      "Enter a name of student ok\n",
      "Enter marks of student 5\n"
     ]
    },
    {
     "name": "stdout",
     "output_type": "stream",
     "text": [
      "-----Student information-----\n",
      "Welcome ok\n",
      "Your Marks are 5\n",
      "-----Student information-----\n",
      "Welcome ok\n",
      "Your Marks are 5\n"
     ]
    }
   ],
   "source": [
    "n = int(input((\"Enter the number of students\")))\n",
    "for i in range(n):\n",
    "    s1 = Student()\n",
    "    name = input(\"Enter a name of student\") \n",
    "    s1.setName(name)\n",
    "    marks = int(input((\"Enter marks of student\")))\n",
    "    s1.setMarks(marks)\n",
    "    \n",
    "for i in range(n):\n",
    "    print(\"-----Student information-----\")\n",
    "    print(\"Welcome\",s1.getName())\n",
    "    print(\"Your Marks are\",s1.getMarks())"
   ]
  },
  {
   "cell_type": "code",
   "execution_count": null,
   "id": "3e986adf-4b14-4ec5-8153-d87cc8148327",
   "metadata": {},
   "outputs": [],
   "source": []
  }
 ],
 "metadata": {
  "kernelspec": {
   "display_name": "Python 3 (ipykernel)",
   "language": "python",
   "name": "python3"
  },
  "language_info": {
   "codemirror_mode": {
    "name": "ipython",
    "version": 3
   },
   "file_extension": ".py",
   "mimetype": "text/x-python",
   "name": "python",
   "nbconvert_exporter": "python",
   "pygments_lexer": "ipython3",
   "version": "3.10.6"
  }
 },
 "nbformat": 4,
 "nbformat_minor": 5
}
