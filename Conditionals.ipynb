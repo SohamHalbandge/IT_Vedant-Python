{
 "cells": [
  {
   "cell_type": "markdown",
   "metadata": {},
   "source": [
    "1. If statement (Handles only True Condition)"
   ]
  },
  {
   "cell_type": "code",
   "execution_count": 5,
   "metadata": {},
   "outputs": [
    {
     "name": "stdout",
     "output_type": "stream",
     "text": [
      "Your name is ABC\n",
      "Good Morning 'ABC'\n",
      "How are you?\n"
     ]
    }
   ],
   "source": [
    "name = input(\"Enter name\")\n",
    "print(\"Your name is {}\".format(name))\n",
    "if name == 'ABC' :\n",
    "    print(\"Good Morning 'ABC'\")\n",
    "print(\"How are you?\")"
   ]
  },
  {
   "cell_type": "code",
   "execution_count": 7,
   "metadata": {},
   "outputs": [
    {
     "name": "stdout",
     "output_type": "stream",
     "text": [
      "Input Number is 12\n",
      "The given number is Even\n"
     ]
    }
   ],
   "source": [
    "num = int(input(\"Enter number\"))\n",
    "print(\"Input Number is {}\".format(num))\n",
    "if num % 2 == 0 :\n",
    "    print(\"The given number is Even\")"
   ]
  },
  {
   "cell_type": "markdown",
   "metadata": {},
   "source": [
    "If-Else Statement"
   ]
  },
  {
   "cell_type": "code",
   "execution_count": 9,
   "metadata": {},
   "outputs": [
    {
     "name": "stdout",
     "output_type": "stream",
     "text": [
      "Good Morning Guest\n",
      "How are you?\n"
     ]
    }
   ],
   "source": [
    "name = input(\"Enter a name\")\n",
    "if name == 'admin' :\n",
    "    print(\"Good morning admin\")\n",
    "else:\n",
    "    print(\"Good Morning Guest\")\n",
    "print(\"How are you?\")"
   ]
  },
  {
   "cell_type": "code",
   "execution_count": 12,
   "metadata": {},
   "outputs": [
    {
     "name": "stdout",
     "output_type": "stream",
     "text": [
      "Input Number is 12\n",
      "The given number 12 is 'Even'\n"
     ]
    }
   ],
   "source": [
    "number = int(input(\"Enter a number : \"))\n",
    "print(\"Input Number is {}\".format(num))\n",
    "if number % 2 == 0 :\n",
    "    print(\"The given number {} is 'Even'\".format(number))\n",
    "else:\n",
    "    print(\"The given number {} is 'Odd'\".format(number))"
   ]
  },
  {
   "cell_type": "code",
   "execution_count": 16,
   "metadata": {},
   "outputs": [
    {
     "name": "stdout",
     "output_type": "stream",
     "text": [
      "The first number is 12\n",
      "The second number is 6\n",
      "12 is greater than or equal to 6\n"
     ]
    }
   ],
   "source": [
    "#2 numbers greatest\n",
    "a = int(input())\n",
    "b = int(input())\n",
    "print('The first number is {}'.format(a))\n",
    "print('The second number is {}'.format(b))\n",
    "if a >= b :\n",
    "    print('{} is greater than or equal to {}'.format(a,b))\n",
    "else:\n",
    "    print('{} is greater than {}'.format(b,a))"
   ]
  },
  {
   "cell_type": "code",
   "execution_count": 17,
   "metadata": {},
   "outputs": [
    {
     "name": "stdout",
     "output_type": "stream",
     "text": [
      "The input number is 15\n",
      "The given number 15 is divisible by 5\n"
     ]
    }
   ],
   "source": [
    "#Take number from user and check it divisible by 5\n",
    "num = int(input())\n",
    "print('The input number is {}'.format(num))\n",
    "if num % 5 == 0:\n",
    "    print(\"The given number {} is divisible by 5\".format(num))\n",
    "else:\n",
    "    print(\"The given number {} is not divisible by 5\".format(num))"
   ]
  },
  {
   "cell_type": "markdown",
   "metadata": {},
   "source": [
    "If-elif-else statement"
   ]
  },
  {
   "cell_type": "code",
   "execution_count": 20,
   "metadata": {},
   "outputs": [
    {
     "name": "stdout",
     "output_type": "stream",
     "text": [
      "a =  1\n",
      "b =  2\n",
      "c =  2\n",
      "2 is greater than or equal to 1 and 2\n"
     ]
    }
   ],
   "source": [
    "#check which number is the greatest (among 3)\n",
    "a = int(input())\n",
    "b = int(input())\n",
    "c = int(input())\n",
    "print('a = ',a)\n",
    "print('b = ',b)\n",
    "print('c = ',c)\n",
    "if a >= b and a > c:\n",
    "    print('{}} is greater than or equal to {} and {}'.format(a,b,c))\n",
    "if b > c:\n",
    "    print('{} is greater or equal to {} and {}'.format(b,a,c))\n",
    "else:\n",
    "    print('{} is greater than or equal to {} and {}'.format(c,a,b))\n"
   ]
  },
  {
   "cell_type": "code",
   "execution_count": 25,
   "metadata": {},
   "outputs": [
    {
     "name": "stdout",
     "output_type": "stream",
     "text": [
      "Input number is 1\n",
      "The number 1 is between 1 to 10\n"
     ]
    }
   ],
   "source": [
    "#Check the given number is between 1 and 10\n",
    "a = int(input())\n",
    "print('Input number is {}'.format(a))\n",
    "if a <= 1:\n",
    "    print('The number {} is between 1 to 10'.format(a))\n",
    "elif a<=10:\n",
    "    print('The number {} is between 1 to 10'.format(a))\n",
    "else:\n",
    "    print(\"The number {} is not between 1 to 10\".format(a))"
   ]
  },
  {
   "cell_type": "code",
   "execution_count": 30,
   "metadata": {},
   "outputs": [
    {
     "name": "stdout",
     "output_type": "stream",
     "text": [
      "The sales amount is 16999\n",
      "The discount amount is 3399.8\n",
      "Total amount to be paid is 13599.2\n"
     ]
    }
   ],
   "source": [
    "#Sales amount discount\n",
    "amt = int(input())\n",
    "print(\"The sales amount is {}\".format(amt))\n",
    "if amt < 5000 :\n",
    "    discount = amt * 5 / 100\n",
    "    print('The discount amount is {}'.format(discount))\n",
    "elif amt >= 5000 and amt < 15000:\n",
    "    discount = amt * 12 / 100\n",
    "    print('The discount amount is {}'.format(discount))\n",
    "elif amt >= 15000 and amt < 25000 :\n",
    "    discount = amt * 20 / 100\n",
    "    print('The discount amount is {}'.format(discount))\n",
    "else:\n",
    "    discount = amt * 30 / 100\n",
    "    print('The discount amount is {}'.format(discount))\n",
    "\n",
    "amt = amt - discount\n",
    "print('Total amount to be paid is {}'.format(amt))"
   ]
  },
  {
   "cell_type": "code",
   "execution_count": 38,
   "metadata": {},
   "outputs": [
    {
     "name": "stdout",
     "output_type": "stream",
     "text": [
      "Subject 1 mark is 80.0\n",
      "Subject 2 mark is 80.0\n",
      "Subject 3 mark is 80.0\n",
      "Subject 4 mark is 80.0\n",
      "Subject 5 mark is 80.0\n",
      "The average marks is 80.0\n",
      "Grade Recieved : A\n"
     ]
    }
   ],
   "source": [
    "#Grade Calculator\n",
    "s1 = float(input())\n",
    "s2 = float(input())\n",
    "s3 = float(input())\n",
    "s4 = float(input())\n",
    "s5 = float(input())\n",
    "print(\"Subject 1 mark is {}\".format(s1))\n",
    "print(\"Subject 2 mark is {}\".format(s2))\n",
    "print(\"Subject 3 mark is {}\".format(s3))\n",
    "print(\"Subject 4 mark is {}\".format(s4))\n",
    "print(\"Subject 5 mark is {}\".format(s5))\n",
    "avg = (s1 + s2 + s3 + s4 + s5)/ 5\n",
    "print(\"The average marks is {}\".format(avg))\n",
    "if avg >= 90 :\n",
    "    print(\"Grade Recieved : A+\")\n",
    "elif avg < 90 and avg >= 80:\n",
    "    print(\"Grade Recieved : A\")\n",
    "elif avg < 80 and avg >= 60:\n",
    "    print(\"Grade Recieved : B\")\n",
    "else:\n",
    "    print(\"Grade Recieved : C\")"
   ]
  },
  {
   "cell_type": "markdown",
   "metadata": {},
   "source": [
    "MENU DRIVEN PROGRAM"
   ]
  },
  {
   "cell_type": "code",
   "execution_count": 49,
   "metadata": {},
   "outputs": [
    {
     "name": "stdout",
     "output_type": "stream",
     "text": [
      "<---------------MENU--------------->\n",
      "1.Addition\n",
      "2.Subtraction\n",
      "3.Multiplication\n",
      "4.Division\n",
      "Your Choice is 1\n",
      "Your Choice is 1\n",
      "Your Number 1 is 3\n",
      "Your Number 2 is 3\n",
      "Addition is 6\n"
     ]
    }
   ],
   "source": [
    "print(\"<---------------MENU--------------->\")\n",
    "print(\"1.Addition\\n2.Subtraction\\n3.Multiplication\\n4.Division\")\n",
    "choice = int(input(\"Enter your Choice : \"))\n",
    "print(\"Your Choice is {}\".format(choice))\n",
    "if choice <= 4:\n",
    "    print(\"Your Choice is {}\".format(choice))\n",
    "    num1 = int(input())\n",
    "    num2 = int(input())\n",
    "    print(\"Your Number 1 is {}\".format(num1))\n",
    "    print(\"Your Number 2 is {}\".format(num1))\n",
    "    if choice == 1 :\n",
    "        add = num1 + num2\n",
    "        print(\"Addition is {}\".format(add))\n",
    "    elif choice == 2 :\n",
    "        sub = num1 - num2\n",
    "        print(\"Subtraction is {}\".format(sub))\n",
    "    elif choice == 3 :\n",
    "        mul = num1 * num2\n",
    "        print(\"Addition is {}\".format(mul))\n",
    "    else:\n",
    "        div = num1 / num2\n",
    "        print(\"Addition is {}\".format(div))\n",
    "else:\n",
    "    print(\"Please select correct choice. Your choice {} is not between our available choices!\".format(choice))\n"
   ]
  },
  {
   "cell_type": "code",
   "execution_count": null,
   "metadata": {},
   "outputs": [],
   "source": []
  }
 ],
 "metadata": {
  "kernelspec": {
   "display_name": "Python 3 (ipykernel)",
   "language": "python",
   "name": "python3"
  },
  "language_info": {
   "codemirror_mode": {
    "name": "ipython",
    "version": 3
   },
   "file_extension": ".py",
   "mimetype": "text/x-python",
   "name": "python",
   "nbconvert_exporter": "python",
   "pygments_lexer": "ipython3",
   "version": "3.9.12"
  },
  "orig_nbformat": 4
 },
 "nbformat": 4,
 "nbformat_minor": 2
}
