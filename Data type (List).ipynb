{
 "cells": [
  {
   "cell_type": "markdown",
   "id": "de87cbb2",
   "metadata": {},
   "source": [
    "# List\n",
    "List is ordered collection of heterogeneous elements which are mutable\n",
    "- List elements are enclosed with square brackets\n",
    "- change the element\n",
    "- add element\n",
    "- deletion\n",
    "\n",
    "Ordered - Indexing and Slicing"
   ]
  },
  {
   "cell_type": "code",
   "execution_count": 1,
   "id": "6470e0cb",
   "metadata": {},
   "outputs": [],
   "source": [
    "#Creation of a list\n",
    "\n",
    "#Empty list\n",
    "l1 = []"
   ]
  },
  {
   "cell_type": "code",
   "execution_count": 2,
   "id": "8af6876e",
   "metadata": {},
   "outputs": [
    {
     "data": {
      "text/plain": [
       "list"
      ]
     },
     "execution_count": 2,
     "metadata": {},
     "output_type": "execute_result"
    }
   ],
   "source": [
    "type(l1)"
   ]
  },
  {
   "cell_type": "code",
   "execution_count": 3,
   "id": "fb4e2090",
   "metadata": {},
   "outputs": [],
   "source": [
    "#Empty list - type 2\n",
    "l2 = list()"
   ]
  },
  {
   "cell_type": "code",
   "execution_count": 4,
   "id": "7741c5d0",
   "metadata": {},
   "outputs": [
    {
     "name": "stdout",
     "output_type": "stream",
     "text": [
      "<class 'list'>\n"
     ]
    }
   ],
   "source": [
    "print(type(l2))"
   ]
  },
  {
   "cell_type": "code",
   "execution_count": 5,
   "id": "23b564d8",
   "metadata": {},
   "outputs": [
    {
     "name": "stdout",
     "output_type": "stream",
     "text": [
      "[1, 2, 3, 4, 5, 6, 7]\n",
      "<class 'list'>\n"
     ]
    }
   ],
   "source": [
    "#integer list \n",
    "l1 = [1,2,3,4,5,6,7]\n",
    "print(l1)\n",
    "print(type(l1))"
   ]
  },
  {
   "cell_type": "code",
   "execution_count": 6,
   "id": "6c96dfba",
   "metadata": {},
   "outputs": [
    {
     "name": "stdout",
     "output_type": "stream",
     "text": [
      "[1.2, 3.4, 5.6, 8.9]\n",
      "<class 'list'>\n"
     ]
    }
   ],
   "source": [
    "l2 = [1.2,3.4,5.6,8.9]\n",
    "print(l2)\n",
    "print(type(l2))"
   ]
  },
  {
   "cell_type": "code",
   "execution_count": 7,
   "id": "c2726812",
   "metadata": {},
   "outputs": [
    {
     "name": "stdout",
     "output_type": "stream",
     "text": [
      "['python', 'java', 'php', 10, 10.5]\n",
      "<class 'list'>\n"
     ]
    }
   ],
   "source": [
    "#heterogeneous elements\n",
    "l3 = ['python' , 'java'  , 'php' , 10 , 10.5]\n",
    "print(l3)\n",
    "print(type(l3))"
   ]
  },
  {
   "cell_type": "code",
   "execution_count": 8,
   "id": "218dc411",
   "metadata": {},
   "outputs": [
    {
     "name": "stdout",
     "output_type": "stream",
     "text": [
      "['a', 'a', 1, 2, 3, 4, 1, 2, 3, 4]\n"
     ]
    }
   ],
   "source": [
    "#duplicate elements\n",
    "l4 = ['a','a',1,2,3,4,1,2,3,4]\n",
    "print(l4)"
   ]
  },
  {
   "cell_type": "code",
   "execution_count": 9,
   "id": "b50c3ff5",
   "metadata": {},
   "outputs": [],
   "source": [
    "#2.Ordered \n",
    "#Indexing and Slicing"
   ]
  },
  {
   "cell_type": "code",
   "execution_count": 10,
   "id": "0d26a11c",
   "metadata": {},
   "outputs": [],
   "source": [
    "#Indexing:accessing single element of a list"
   ]
  },
  {
   "cell_type": "code",
   "execution_count": 11,
   "id": "3f3d5d91",
   "metadata": {},
   "outputs": [
    {
     "name": "stdout",
     "output_type": "stream",
     "text": [
      "[1, 2, 3, 4, 5, 6, 7, 8, 9, 10]\n"
     ]
    }
   ],
   "source": [
    "l1 = [1,2,3,4,5,6,7,8,9,10]\n",
    "print(l1)"
   ]
  },
  {
   "cell_type": "code",
   "execution_count": 12,
   "id": "73fa6e6f",
   "metadata": {},
   "outputs": [
    {
     "name": "stdout",
     "output_type": "stream",
     "text": [
      "1\n"
     ]
    }
   ],
   "source": [
    "print(l1[0])"
   ]
  },
  {
   "cell_type": "code",
   "execution_count": 13,
   "id": "e00d6dec",
   "metadata": {},
   "outputs": [
    {
     "name": "stdout",
     "output_type": "stream",
     "text": [
      "6\n"
     ]
    }
   ],
   "source": [
    "print(l1[5])"
   ]
  },
  {
   "cell_type": "code",
   "execution_count": 14,
   "id": "81247cfe",
   "metadata": {},
   "outputs": [
    {
     "name": "stdout",
     "output_type": "stream",
     "text": [
      "10\n"
     ]
    }
   ],
   "source": [
    "print(l1[-1])"
   ]
  },
  {
   "cell_type": "code",
   "execution_count": 15,
   "id": "bd0eabd5",
   "metadata": {},
   "outputs": [
    {
     "name": "stdout",
     "output_type": "stream",
     "text": [
      "[2, 4, 6, 8, 10]\n"
     ]
    }
   ],
   "source": [
    "#Accessing even numbers\n",
    "print(l1[1::2])"
   ]
  },
  {
   "cell_type": "code",
   "execution_count": 16,
   "id": "46444f51",
   "metadata": {},
   "outputs": [
    {
     "name": "stdout",
     "output_type": "stream",
     "text": [
      "[1, 3, 5, 7, 9]\n"
     ]
    }
   ],
   "source": [
    "#Accessing the odd numbers\n",
    "print(l1[0::2])"
   ]
  },
  {
   "cell_type": "code",
   "execution_count": 17,
   "id": "3b281105",
   "metadata": {},
   "outputs": [
    {
     "name": "stdout",
     "output_type": "stream",
     "text": [
      "[1, 2, 3, 4, 5, 6, 7, 8, 9, 10]\n"
     ]
    }
   ],
   "source": [
    "print(l1[::])"
   ]
  },
  {
   "cell_type": "code",
   "execution_count": 18,
   "id": "4a51c661",
   "metadata": {},
   "outputs": [
    {
     "name": "stdout",
     "output_type": "stream",
     "text": [
      "[10, 9, 8, 7, 6, 5, 4, 3, 2, 1]\n"
     ]
    }
   ],
   "source": [
    "#Printing the list in the reverse order\n",
    "print(l1[::-1])"
   ]
  },
  {
   "cell_type": "code",
   "execution_count": 19,
   "id": "e436be3e",
   "metadata": {},
   "outputs": [
    {
     "name": "stdout",
     "output_type": "stream",
     "text": [
      "[10, 8, 6, 4, 2]\n"
     ]
    }
   ],
   "source": [
    "#Accessing even number in reverse order\n",
    "print(l1[::-2])"
   ]
  },
  {
   "cell_type": "code",
   "execution_count": 20,
   "id": "dff1fb90",
   "metadata": {},
   "outputs": [
    {
     "name": "stdout",
     "output_type": "stream",
     "text": [
      "[9, 7, 5, 3, 1]\n"
     ]
    }
   ],
   "source": [
    "#Accessing odd number in reverse order\n",
    "print(l1[-2::-2])"
   ]
  },
  {
   "cell_type": "code",
   "execution_count": 21,
   "id": "c3a6eca0",
   "metadata": {},
   "outputs": [
    {
     "name": "stdout",
     "output_type": "stream",
     "text": [
      "[5, 4, 3, 2, 1]\n"
     ]
    }
   ],
   "source": [
    "#printing 1 to 5 in reverse order\n",
    "print(l1[-6::-1])"
   ]
  },
  {
   "cell_type": "code",
   "execution_count": 22,
   "id": "b61d6d3c",
   "metadata": {},
   "outputs": [],
   "source": [
    "#Mutable"
   ]
  },
  {
   "cell_type": "code",
   "execution_count": 23,
   "id": "42d6b894",
   "metadata": {},
   "outputs": [],
   "source": [
    "l1 = ['python' , 'java' , 'C' , 'C++' , 'PHP' , 'HTML']"
   ]
  },
  {
   "cell_type": "code",
   "execution_count": 24,
   "id": "f626c5f1",
   "metadata": {},
   "outputs": [],
   "source": [
    "#Change the values\n",
    "l1 [0] = 'Data Science'"
   ]
  },
  {
   "cell_type": "code",
   "execution_count": 25,
   "id": "e22195a2",
   "metadata": {},
   "outputs": [
    {
     "name": "stdout",
     "output_type": "stream",
     "text": [
      "['Data Science', 'java', 'C', 'C++', 'PHP', 'HTML']\n"
     ]
    }
   ],
   "source": [
    "print(l1)"
   ]
  },
  {
   "cell_type": "code",
   "execution_count": 26,
   "id": "bd9b76a3",
   "metadata": {},
   "outputs": [],
   "source": [
    "l1 [4] = 'Web Designing'"
   ]
  },
  {
   "cell_type": "code",
   "execution_count": 27,
   "id": "baad49d9",
   "metadata": {},
   "outputs": [
    {
     "name": "stdout",
     "output_type": "stream",
     "text": [
      "['Data Science', 'java', 'C', 'C++', 'Web Designing', 'HTML']\n"
     ]
    }
   ],
   "source": [
    "print(l1)"
   ]
  },
  {
   "cell_type": "code",
   "execution_count": 28,
   "id": "961e8bdb",
   "metadata": {},
   "outputs": [],
   "source": [
    "##Different ways of adding elements into the list"
   ]
  },
  {
   "cell_type": "code",
   "execution_count": 29,
   "id": "a9a2dffa",
   "metadata": {},
   "outputs": [],
   "source": [
    "#1. Append (Adds single element at end of list)"
   ]
  },
  {
   "cell_type": "code",
   "execution_count": 30,
   "id": "967c968a",
   "metadata": {},
   "outputs": [],
   "source": [
    "l1.append('JavaScript')"
   ]
  },
  {
   "cell_type": "code",
   "execution_count": 31,
   "id": "6e3ff7e1",
   "metadata": {},
   "outputs": [
    {
     "name": "stdout",
     "output_type": "stream",
     "text": [
      "['Data Science', 'java', 'C', 'C++', 'Web Designing', 'HTML', 'JavaScript']\n"
     ]
    }
   ],
   "source": [
    "print(l1)"
   ]
  },
  {
   "cell_type": "code",
   "execution_count": 32,
   "id": "c5dbd890",
   "metadata": {},
   "outputs": [],
   "source": [
    "l1.append(\"Angular\")"
   ]
  },
  {
   "cell_type": "code",
   "execution_count": 33,
   "id": "3eb36788",
   "metadata": {},
   "outputs": [
    {
     "name": "stdout",
     "output_type": "stream",
     "text": [
      "['Data Science', 'java', 'C', 'C++', 'Web Designing', 'HTML', 'JavaScript', 'Angular']\n"
     ]
    }
   ],
   "source": [
    "print(l1)"
   ]
  },
  {
   "cell_type": "code",
   "execution_count": 34,
   "id": "ff197f2a",
   "metadata": {},
   "outputs": [],
   "source": [
    "l1.append(['a','b'])"
   ]
  },
  {
   "cell_type": "code",
   "execution_count": 35,
   "id": "0410bfe2",
   "metadata": {},
   "outputs": [
    {
     "data": {
      "text/plain": [
       "['Data Science',\n",
       " 'java',\n",
       " 'C',\n",
       " 'C++',\n",
       " 'Web Designing',\n",
       " 'HTML',\n",
       " 'JavaScript',\n",
       " 'Angular',\n",
       " ['a', 'b']]"
      ]
     },
     "execution_count": 35,
     "metadata": {},
     "output_type": "execute_result"
    }
   ],
   "source": [
    "l1"
   ]
  },
  {
   "cell_type": "code",
   "execution_count": 36,
   "id": "7a3aded6",
   "metadata": {},
   "outputs": [],
   "source": [
    "#Extend : to add multiple elements "
   ]
  },
  {
   "cell_type": "code",
   "execution_count": 37,
   "id": "e806bec8",
   "metadata": {},
   "outputs": [],
   "source": [
    "l1.extend(['react','node js'])"
   ]
  },
  {
   "cell_type": "code",
   "execution_count": 38,
   "id": "5329257f",
   "metadata": {},
   "outputs": [
    {
     "name": "stdout",
     "output_type": "stream",
     "text": [
      "['Data Science', 'java', 'C', 'C++', 'Web Designing', 'HTML', 'JavaScript', 'Angular', ['a', 'b'], 'react', 'node js']\n"
     ]
    }
   ],
   "source": [
    "print(l1)"
   ]
  },
  {
   "cell_type": "code",
   "execution_count": 39,
   "id": "f3d1a79d",
   "metadata": {},
   "outputs": [],
   "source": [
    "l1 = [1,2,3,4,5]\n",
    "l2 = [6,7,8,9,10]"
   ]
  },
  {
   "cell_type": "code",
   "execution_count": 40,
   "id": "b66b26bc",
   "metadata": {},
   "outputs": [],
   "source": [
    "l1.extend(l2)"
   ]
  },
  {
   "cell_type": "code",
   "execution_count": 41,
   "id": "ab7f29af",
   "metadata": {},
   "outputs": [
    {
     "name": "stdout",
     "output_type": "stream",
     "text": [
      "[1, 2, 3, 4, 5, 6, 7, 8, 9, 10]\n"
     ]
    }
   ],
   "source": [
    "print(l1)"
   ]
  },
  {
   "cell_type": "code",
   "execution_count": 42,
   "id": "2a6e4a87",
   "metadata": {},
   "outputs": [],
   "source": [
    "l2.extend(l1)"
   ]
  },
  {
   "cell_type": "code",
   "execution_count": 43,
   "id": "cd51f4e4",
   "metadata": {},
   "outputs": [
    {
     "name": "stdout",
     "output_type": "stream",
     "text": [
      "[6, 7, 8, 9, 10, 1, 2, 3, 4, 5, 6, 7, 8, 9, 10]\n"
     ]
    }
   ],
   "source": [
    "print(l2)"
   ]
  },
  {
   "cell_type": "code",
   "execution_count": 44,
   "id": "62f7e94d",
   "metadata": {},
   "outputs": [],
   "source": [
    "#insert : To add element at specific index position"
   ]
  },
  {
   "cell_type": "code",
   "execution_count": 45,
   "id": "a83760aa",
   "metadata": {},
   "outputs": [],
   "source": [
    "l1 = [1,2,3,4,5,6,7,8,9]"
   ]
  },
  {
   "cell_type": "code",
   "execution_count": 46,
   "id": "56c88618",
   "metadata": {},
   "outputs": [],
   "source": [
    "l1.insert(4,111)"
   ]
  },
  {
   "cell_type": "code",
   "execution_count": 47,
   "id": "b787d74b",
   "metadata": {},
   "outputs": [
    {
     "name": "stdout",
     "output_type": "stream",
     "text": [
      "[1, 2, 3, 4, 111, 5, 6, 7, 8, 9]\n"
     ]
    }
   ],
   "source": [
    "print(l1)"
   ]
  },
  {
   "cell_type": "code",
   "execution_count": 48,
   "id": "b8b3a745",
   "metadata": {},
   "outputs": [],
   "source": [
    "## Deletion MEthods"
   ]
  },
  {
   "cell_type": "code",
   "execution_count": 49,
   "id": "e9babb0f",
   "metadata": {},
   "outputs": [],
   "source": [
    "l1 = list(range(2,21,2))"
   ]
  },
  {
   "cell_type": "code",
   "execution_count": 50,
   "id": "0d30724e",
   "metadata": {},
   "outputs": [
    {
     "data": {
      "text/plain": [
       "[]"
      ]
     },
     "execution_count": 50,
     "metadata": {},
     "output_type": "execute_result"
    }
   ],
   "source": [
    "l1=list()\n",
    "l1"
   ]
  },
  {
   "cell_type": "code",
   "execution_count": 51,
   "id": "3f6152c3",
   "metadata": {},
   "outputs": [],
   "source": [
    "l2 = list(range(20))"
   ]
  },
  {
   "cell_type": "code",
   "execution_count": 52,
   "id": "90c7db29",
   "metadata": {},
   "outputs": [
    {
     "name": "stdout",
     "output_type": "stream",
     "text": [
      "[0, 1, 2, 3, 4, 5, 6, 7, 8, 9, 10, 11, 12, 13, 14, 15, 16, 17, 18, 19]\n"
     ]
    }
   ],
   "source": [
    "print(l2)"
   ]
  },
  {
   "cell_type": "code",
   "execution_count": 53,
   "id": "1249ccb7",
   "metadata": {},
   "outputs": [],
   "source": [
    "l3 = list(range(1,21))"
   ]
  },
  {
   "cell_type": "code",
   "execution_count": 54,
   "id": "04641137",
   "metadata": {},
   "outputs": [
    {
     "name": "stdout",
     "output_type": "stream",
     "text": [
      "[1, 2, 3, 4, 5, 6, 7, 8, 9, 10, 11, 12, 13, 14, 15, 16, 17, 18, 19, 20]\n"
     ]
    }
   ],
   "source": [
    "print(l3)"
   ]
  },
  {
   "cell_type": "code",
   "execution_count": 55,
   "id": "7c2195ce",
   "metadata": {},
   "outputs": [],
   "source": [
    "l4 = list(range(2,21,2))"
   ]
  },
  {
   "cell_type": "code",
   "execution_count": 56,
   "id": "b63b94ba",
   "metadata": {},
   "outputs": [
    {
     "name": "stdout",
     "output_type": "stream",
     "text": [
      "[2, 4, 6, 8, 10, 12, 14, 16, 18, 20]\n"
     ]
    }
   ],
   "source": [
    "print(l4)"
   ]
  },
  {
   "cell_type": "code",
   "execution_count": 57,
   "id": "f01fc351",
   "metadata": {},
   "outputs": [],
   "source": [
    "l5 = list(range(1,21,2))"
   ]
  },
  {
   "cell_type": "code",
   "execution_count": 58,
   "id": "1a5a04ad",
   "metadata": {},
   "outputs": [
    {
     "name": "stdout",
     "output_type": "stream",
     "text": [
      "[1, 3, 5, 7, 9, 11, 13, 15, 17, 19]\n"
     ]
    }
   ],
   "source": [
    "print(l5)"
   ]
  },
  {
   "cell_type": "code",
   "execution_count": 59,
   "id": "77d69653",
   "metadata": {},
   "outputs": [],
   "source": [
    "l6 = list(range(1,21))"
   ]
  },
  {
   "cell_type": "code",
   "execution_count": 60,
   "id": "a03d3050",
   "metadata": {},
   "outputs": [
    {
     "data": {
      "text/plain": [
       "[1, 2, 3, 4, 5, 6, 7, 8, 9, 10, 11, 12, 13, 14, 15, 16, 17, 18, 19, 20]"
      ]
     },
     "execution_count": 60,
     "metadata": {},
     "output_type": "execute_result"
    }
   ],
   "source": [
    "l6"
   ]
  },
  {
   "cell_type": "code",
   "execution_count": 61,
   "id": "39968103",
   "metadata": {},
   "outputs": [],
   "source": [
    "# By value"
   ]
  },
  {
   "cell_type": "code",
   "execution_count": 62,
   "id": "d7532e41",
   "metadata": {},
   "outputs": [],
   "source": [
    "l6.remove(10)"
   ]
  },
  {
   "cell_type": "code",
   "execution_count": 63,
   "id": "7ec7963f",
   "metadata": {},
   "outputs": [
    {
     "data": {
      "text/plain": [
       "[1, 2, 3, 4, 5, 6, 7, 8, 9, 11, 12, 13, 14, 15, 16, 17, 18, 19, 20]"
      ]
     },
     "execution_count": 63,
     "metadata": {},
     "output_type": "execute_result"
    }
   ],
   "source": [
    "l6"
   ]
  },
  {
   "cell_type": "code",
   "execution_count": 64,
   "id": "85417ad5",
   "metadata": {},
   "outputs": [],
   "source": [
    "l6.remove(20)"
   ]
  },
  {
   "cell_type": "code",
   "execution_count": 65,
   "id": "dba976b5",
   "metadata": {},
   "outputs": [
    {
     "data": {
      "text/plain": [
       "[1, 2, 3, 4, 5, 6, 7, 8, 9, 11, 12, 13, 14, 15, 16, 17, 18, 19]"
      ]
     },
     "execution_count": 65,
     "metadata": {},
     "output_type": "execute_result"
    }
   ],
   "source": [
    "l6"
   ]
  },
  {
   "cell_type": "code",
   "execution_count": 66,
   "id": "db0aef36",
   "metadata": {},
   "outputs": [],
   "source": [
    "l1 = [1,2,3,4,5,1,2,3,4,5]"
   ]
  },
  {
   "cell_type": "code",
   "execution_count": 67,
   "id": "8b29f0bb",
   "metadata": {},
   "outputs": [
    {
     "name": "stdout",
     "output_type": "stream",
     "text": [
      "[1, 2, 3, 4, 1, 2, 3, 4, 5]\n"
     ]
    }
   ],
   "source": [
    "#If any duplicates, remove will delete only the\n",
    "#first occurence in the list\n",
    "l1.remove(5)\n",
    "print(l1)"
   ]
  },
  {
   "cell_type": "code",
   "execution_count": 68,
   "id": "7120417e",
   "metadata": {},
   "outputs": [
    {
     "data": {
      "text/plain": [
       "[1, 2, 3, 4, 5, 6, 7, 8, 9, 11, 12, 13, 14, 15, 16, 17, 18, 19]"
      ]
     },
     "execution_count": 68,
     "metadata": {},
     "output_type": "execute_result"
    }
   ],
   "source": [
    "l6"
   ]
  },
  {
   "cell_type": "code",
   "execution_count": 69,
   "id": "6bf4c2c9",
   "metadata": {},
   "outputs": [],
   "source": [
    "# By index "
   ]
  },
  {
   "cell_type": "code",
   "execution_count": 70,
   "id": "32398768",
   "metadata": {},
   "outputs": [],
   "source": [
    "l1 = list(range(10,101,10))"
   ]
  },
  {
   "cell_type": "code",
   "execution_count": 71,
   "id": "19397852",
   "metadata": {},
   "outputs": [
    {
     "name": "stdout",
     "output_type": "stream",
     "text": [
      "[10, 20, 30, 40, 50, 60, 70, 80, 90, 100]\n"
     ]
    }
   ],
   "source": [
    "print(l1)"
   ]
  },
  {
   "cell_type": "code",
   "execution_count": 72,
   "id": "72cab46d",
   "metadata": {},
   "outputs": [
    {
     "data": {
      "text/plain": [
       "100"
      ]
     },
     "execution_count": 72,
     "metadata": {},
     "output_type": "execute_result"
    }
   ],
   "source": [
    "#By default it removes the last element\n",
    "l1.pop()"
   ]
  },
  {
   "cell_type": "code",
   "execution_count": 73,
   "id": "76d67490",
   "metadata": {},
   "outputs": [
    {
     "data": {
      "text/plain": [
       "[10, 20, 30, 40, 50, 60, 70, 80, 90]"
      ]
     },
     "execution_count": 73,
     "metadata": {},
     "output_type": "execute_result"
    }
   ],
   "source": [
    "l1"
   ]
  },
  {
   "cell_type": "code",
   "execution_count": 74,
   "id": "e155a1a2",
   "metadata": {},
   "outputs": [
    {
     "data": {
      "text/plain": [
       "10"
      ]
     },
     "execution_count": 74,
     "metadata": {},
     "output_type": "execute_result"
    }
   ],
   "source": [
    "# To delete the element at specific location only.\n",
    "l1.pop(0)"
   ]
  },
  {
   "cell_type": "code",
   "execution_count": 75,
   "id": "ea223d8d",
   "metadata": {},
   "outputs": [
    {
     "data": {
      "text/plain": [
       "[20, 30, 40, 50, 60, 70, 80, 90]"
      ]
     },
     "execution_count": 75,
     "metadata": {},
     "output_type": "execute_result"
    }
   ],
   "source": [
    "l1"
   ]
  },
  {
   "cell_type": "code",
   "execution_count": 76,
   "id": "77985784",
   "metadata": {},
   "outputs": [],
   "source": [
    "l1 = list(range(1,11))"
   ]
  },
  {
   "cell_type": "code",
   "execution_count": 77,
   "id": "563d6ac0",
   "metadata": {},
   "outputs": [
    {
     "data": {
      "text/plain": [
       "[1, 2, 3, 4, 5, 6, 7, 8, 9, 10]"
      ]
     },
     "execution_count": 77,
     "metadata": {},
     "output_type": "execute_result"
    }
   ],
   "source": [
    "l1"
   ]
  },
  {
   "cell_type": "code",
   "execution_count": 78,
   "id": "d9ace0c2",
   "metadata": {},
   "outputs": [],
   "source": [
    "l1.reverse()"
   ]
  },
  {
   "cell_type": "code",
   "execution_count": 79,
   "id": "6fa8ee86",
   "metadata": {},
   "outputs": [
    {
     "name": "stdout",
     "output_type": "stream",
     "text": [
      "[10, 9, 8, 7, 6, 5, 4, 3, 2, 1]\n"
     ]
    }
   ],
   "source": [
    "print(l1)"
   ]
  },
  {
   "cell_type": "code",
   "execution_count": 80,
   "id": "dc7d7d9e",
   "metadata": {},
   "outputs": [],
   "source": [
    "l1.sort()"
   ]
  },
  {
   "cell_type": "code",
   "execution_count": 81,
   "id": "a8d170c1",
   "metadata": {},
   "outputs": [
    {
     "data": {
      "text/plain": [
       "[1, 2, 3, 4, 5, 6, 7, 8, 9, 10]"
      ]
     },
     "execution_count": 81,
     "metadata": {},
     "output_type": "execute_result"
    }
   ],
   "source": [
    "l1"
   ]
  },
  {
   "cell_type": "code",
   "execution_count": 82,
   "id": "f12a7a08",
   "metadata": {},
   "outputs": [],
   "source": [
    "l3 = ['banana' , 'apple' , 'cat' , 'dog']"
   ]
  },
  {
   "cell_type": "code",
   "execution_count": 83,
   "id": "23835569",
   "metadata": {},
   "outputs": [],
   "source": [
    "l3.sort()"
   ]
  },
  {
   "cell_type": "code",
   "execution_count": 84,
   "id": "4bc0640e",
   "metadata": {},
   "outputs": [],
   "source": [
    "l3.sort(reverse=True)"
   ]
  },
  {
   "cell_type": "code",
   "execution_count": 85,
   "id": "173536a5",
   "metadata": {},
   "outputs": [
    {
     "data": {
      "text/plain": [
       "['dog', 'cat', 'banana', 'apple']"
      ]
     },
     "execution_count": 85,
     "metadata": {},
     "output_type": "execute_result"
    }
   ],
   "source": [
    "l3"
   ]
  },
  {
   "cell_type": "code",
   "execution_count": 86,
   "id": "fe832965",
   "metadata": {},
   "outputs": [],
   "source": [
    "l1 = [1,2,3,4,5]"
   ]
  },
  {
   "cell_type": "code",
   "execution_count": 87,
   "id": "876662db",
   "metadata": {},
   "outputs": [],
   "source": [
    "l2 = l1"
   ]
  },
  {
   "cell_type": "code",
   "execution_count": 88,
   "id": "a7a70259",
   "metadata": {},
   "outputs": [],
   "source": [
    "l2.reverse()"
   ]
  },
  {
   "cell_type": "code",
   "execution_count": 89,
   "id": "6c448b1e",
   "metadata": {},
   "outputs": [
    {
     "data": {
      "text/plain": [
       "[5, 4, 3, 2, 1]"
      ]
     },
     "execution_count": 89,
     "metadata": {},
     "output_type": "execute_result"
    }
   ],
   "source": [
    "l2"
   ]
  },
  {
   "cell_type": "code",
   "execution_count": 90,
   "id": "6af45fca",
   "metadata": {},
   "outputs": [
    {
     "data": {
      "text/plain": [
       "[5, 4, 3, 2, 1]"
      ]
     },
     "execution_count": 90,
     "metadata": {},
     "output_type": "execute_result"
    }
   ],
   "source": [
    "l1"
   ]
  },
  {
   "cell_type": "code",
   "execution_count": 91,
   "id": "a839d500",
   "metadata": {},
   "outputs": [],
   "source": [
    "l1 = [1,2,3,4,5]\n",
    "l2 = l1"
   ]
  },
  {
   "cell_type": "code",
   "execution_count": 92,
   "id": "dc72300f",
   "metadata": {},
   "outputs": [
    {
     "name": "stdout",
     "output_type": "stream",
     "text": [
      "[1, 2, 3, 4, 5]\n"
     ]
    }
   ],
   "source": [
    "l3 = l1.copy()\n",
    "print(l3)"
   ]
  },
  {
   "cell_type": "code",
   "execution_count": 93,
   "id": "7fe475ba",
   "metadata": {},
   "outputs": [
    {
     "name": "stdout",
     "output_type": "stream",
     "text": [
      "[1, 2, 3, 4, 5, 20]\n",
      "[1, 2, 3, 4, 5]\n"
     ]
    }
   ],
   "source": [
    "l3.append(20)\n",
    "print(l3)\n",
    "print(l1)"
   ]
  },
  {
   "cell_type": "code",
   "execution_count": 94,
   "id": "464453a8",
   "metadata": {},
   "outputs": [
    {
     "name": "stdout",
     "output_type": "stream",
     "text": [
      "[1, 2, 3, 4, 5, 1, 2, 3, 4, 5]\n",
      "[1, 2, 3, 4, 5, 1, 2, 3, 4, 5, 1, 2, 3, 4, 5, 1, 2, 3, 4, 5, 1, 2, 3, 4, 5]\n"
     ]
    }
   ],
   "source": [
    "#Mathematical Operations\n",
    "l1 = [1,2,3,4,5]\n",
    "l2 = [1,2,3,4,5]\n",
    "print(l1 + l2)\n",
    "print(l1 * 5)"
   ]
  },
  {
   "cell_type": "code",
   "execution_count": 95,
   "id": "2f31816c",
   "metadata": {},
   "outputs": [
    {
     "name": "stdout",
     "output_type": "stream",
     "text": [
      "[1, 2, 3, 4, 5, 6, 7, 8, 9, 10, 11, 12, 13, 14, 15, 16, 17, 18, 19, 20]\n"
     ]
    }
   ],
   "source": [
    "l1 = list(range(1,21))\n",
    "print(l1)"
   ]
  },
  {
   "cell_type": "code",
   "execution_count": 96,
   "id": "8f5fd243",
   "metadata": {},
   "outputs": [
    {
     "name": "stdout",
     "output_type": "stream",
     "text": [
      "[]\n"
     ]
    }
   ],
   "source": [
    "l1.clear()\n",
    "print(l1)"
   ]
  },
  {
   "cell_type": "code",
   "execution_count": 97,
   "id": "322c6d67",
   "metadata": {},
   "outputs": [],
   "source": [
    "#Removes the list object from the memory\n",
    "del l1"
   ]
  },
  {
   "cell_type": "code",
   "execution_count": 98,
   "id": "73ca4b25",
   "metadata": {},
   "outputs": [],
   "source": [
    "l1=[1,2,3,4,5]\n",
    "l2=[6,7,8,9,10]"
   ]
  },
  {
   "cell_type": "code",
   "execution_count": 99,
   "id": "31594a48",
   "metadata": {},
   "outputs": [],
   "source": [
    "l1.append(l2)"
   ]
  },
  {
   "cell_type": "code",
   "execution_count": 100,
   "id": "a179c1a0",
   "metadata": {},
   "outputs": [
    {
     "name": "stdout",
     "output_type": "stream",
     "text": [
      "[1, 2, 3, 4, 5, [6, 7, 8, 9, 10]]\n"
     ]
    }
   ],
   "source": [
    "print(l1)"
   ]
  },
  {
   "cell_type": "code",
   "execution_count": 101,
   "id": "e3d88413",
   "metadata": {},
   "outputs": [
    {
     "name": "stdout",
     "output_type": "stream",
     "text": [
      "[6, 7, 8, 9, 10]\n"
     ]
    }
   ],
   "source": [
    "print(l1[5])"
   ]
  },
  {
   "cell_type": "code",
   "execution_count": 102,
   "id": "76c1bbef",
   "metadata": {},
   "outputs": [
    {
     "name": "stdout",
     "output_type": "stream",
     "text": [
      "6\n"
     ]
    }
   ],
   "source": [
    "print(l1[5][0])"
   ]
  },
  {
   "cell_type": "code",
   "execution_count": 103,
   "id": "118d8749",
   "metadata": {},
   "outputs": [
    {
     "name": "stdout",
     "output_type": "stream",
     "text": [
      "[10, 9, 8, 7, 6]\n"
     ]
    }
   ],
   "source": [
    "print(l1[-1][::-1])"
   ]
  },
  {
   "cell_type": "code",
   "execution_count": 105,
   "id": "0482ad1a",
   "metadata": {},
   "outputs": [],
   "source": [
    "l1 = [1,2,3,4,['apple','banana',['cat','dog',['python']]]]"
   ]
  },
  {
   "cell_type": "code",
   "execution_count": 106,
   "id": "b766e7cb",
   "metadata": {},
   "outputs": [
    {
     "data": {
      "text/plain": [
       "['python']"
      ]
     },
     "execution_count": 106,
     "metadata": {},
     "output_type": "execute_result"
    }
   ],
   "source": [
    "l1[-1][-1][-1]"
   ]
  },
  {
   "cell_type": "code",
   "execution_count": null,
   "id": "d59570b7",
   "metadata": {},
   "outputs": [],
   "source": []
  }
 ],
 "metadata": {
  "kernelspec": {
   "display_name": "Python 3 (ipykernel)",
   "language": "python",
   "name": "python3"
  },
  "language_info": {
   "codemirror_mode": {
    "name": "ipython",
    "version": 3
   },
   "file_extension": ".py",
   "mimetype": "text/x-python",
   "name": "python",
   "nbconvert_exporter": "python",
   "pygments_lexer": "ipython3",
   "version": "3.10.6"
  }
 },
 "nbformat": 4,
 "nbformat_minor": 5
}
